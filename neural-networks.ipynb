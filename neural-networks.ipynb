{
 "cells": [
  {
   "cell_type": "code",
   "execution_count": 9,
   "metadata": {},
   "outputs": [
    {
     "name": "stdout",
     "output_type": "stream",
     "text": [
      "(7000, 900)\n"
     ]
    }
   ],
   "source": [
    "import matplotlib.pyplot as plt\n",
    "import numpy as np\n",
    "import pandas as pd\n",
    "from sklearn.model_selection import train_test_split\n",
    "\n",
    "df = pd.read_csv('data/processed_nist_data.csv', sep=',', header=None)\n",
    "\n",
    "raw_data = np.array(df.values)\n",
    "labels = raw_data[:, 0]\n",
    "data = raw_data[:, 1:]\n",
    "X_train, X_test, y_train, y_test = train_test_split(data, labels, test_size=0.3, random_state=4)\n",
    "print(X_train.shape)"
   ]
  },
  {
   "cell_type": "code",
   "execution_count": 27,
   "metadata": {},
   "outputs": [
    {
     "name": "stdout",
     "output_type": "stream",
     "text": [
      "TRAIN: [1400 1401 1402 ..., 6997 6998 6999] TEST: [   0    1    2 ..., 1397 1398 1399]\nTRAIN: [   0    1    2 ..., 6997 6998 6999] TEST: [1400 1401 1402 ..., 2797 2798 2799]\nTRAIN: [   0    1    2 ..., 6997 6998 6999] TEST: [2800 2801 2802 ..., 4197 4198 4199]\nTRAIN: [   0    1    2 ..., 6997 6998 6999] TEST: [4200 4201 4202 ..., 5597 5598 5599]\nTRAIN: [   0    1    2 ..., 5597 5598 5599] TEST: [5600 5601 5602 ..., 6997 6998 6999]\n"
     ]
    }
   ],
   "source": [
    "# simulate splitting a dataset of 25 observations into 5 folds\n",
    "from sklearn.model_selection import KFold\n",
    "\n",
    "kf = KFold(n_splits=5, random_state=None, shuffle=False)\n",
    "\n",
    "X = X_train\n",
    "y = y_train\n",
    "\n",
    "for train_index, test_index in kf.split(X):\n",
    "    print(\"TRAIN:\", train_index, \"TEST:\", test_index)\n",
    "    X_train, X_test = X[train_index], X[test_index]\n",
    "    y_train, y_test = y[train_index], y[test_index]"
   ]
  },
  {
   "cell_type": "code",
   "execution_count": 29,
   "metadata": {},
   "outputs": [
    {
     "name": "stdout",
     "output_type": "stream",
     "text": [
      "[ 0.93660714  0.95535714  0.94821429  0.9375      0.96160714]\n"
     ]
    }
   ],
   "source": [
    "from sklearn.cross_validation import KFold, cross_val_score\n",
    "k_fold = KFold(len(X_train), n_folds=5, shuffle=True, random_state=0)\n",
    "clf = MLPClassifier(solver='lbfgs', alpha=1e-5, hidden_layer_sizes=(400, 40), random_state=1, learning_rate_init=0.01)\n",
    "cv = cross_val_score(clf, X_train, y_train, cv=k_fold, n_jobs=1, scoring='accuracy')\n",
    "print(cv)"
   ]
  },
  {
   "cell_type": "code",
   "execution_count": 41,
   "metadata": {},
   "outputs": [
    {
     "name": "stdout",
     "output_type": "stream",
     "text": [
      "MLPClassifier(activation='relu', alpha=1e-05, batch_size='auto', beta_1=0.9,\n       beta_2=0.999, early_stopping=False, epsilon=1e-08,\n       hidden_layer_sizes=(400, 40), learning_rate='constant',\n       learning_rate_init=0.01, max_iter=200, momentum=0.9,\n       nesterovs_momentum=True, power_t=0.5, random_state=1, shuffle=True,\n       solver='lbfgs', tol=0.0001, validation_fraction=0.1, verbose=False,\n       warm_start=False)\n0.960714285714\n[[126   0   1   0   0   1   0   0   0   2]\n [  0 130   0   0   0   0   0   1   0   0]\n [  0   0 125   1   3   0   1   1   2   1]\n [  0   0   0 137   0   2   0   0   1   0]\n [  0   0   2   0 115   0   2   0   0   0]\n [  0   0   1   1   0 138   0   0   2   1]\n [  1   0   0   1   0   0 141   0   1   1]\n [  0   1   0   0   1   0   0 144   1   0]\n [  1   0   2   3   4   1   1   0 154   2]\n [  0   1   0   1   2   0   0   4   0 135]]\n"
     ]
    }
   ],
   "source": [
    "from sklearn.neural_network import MLPClassifier\n",
    "\n",
    "clf = MLPClassifier(solver='lbfgs', alpha=1e-5, hidden_layer_sizes=(400, 40), random_state=1, learning_rate_init=0.01)\n",
    "fit_result = clf.fit(X_train, y_train)\n",
    "\n",
    "from sklearn import metrics\n",
    "\n",
    "predicted_data = clf.predict(X_test)\n",
    "acc = metrics.accuracy_score(y_test, predicted_data)\n",
    "print(fit_result)\n",
    "print(acc)\n",
    "print(metrics.confusion_matrix(y_test, predicted_data))"
   ]
  },
  {
   "cell_type": "code",
   "execution_count": 40,
   "metadata": {},
   "outputs": [
    {
     "name": "stdout",
     "output_type": "stream",
     "text": [
      "Training set score: 1.000000\nTest set score: 0.960714\nMLPClassifier(activation='relu', alpha=1e-05, batch_size='auto', beta_1=0.9,\n       beta_2=0.999, early_stopping=False, epsilon=1e-08,\n       hidden_layer_sizes=(400, 40), learning_rate='constant',\n       learning_rate_init=0.01, max_iter=200, momentum=0.9,\n       nesterovs_momentum=True, power_t=0.5, random_state=1, shuffle=True,\n       solver='lbfgs', tol=0.0001, validation_fraction=0.1, verbose=False,\n       warm_start=False)\n0.960714285714\n[[126   0   1   0   0   1   0   0   0   2]\n [  0 130   0   0   0   0   0   1   0   0]\n [  0   0 125   1   3   0   1   1   2   1]\n [  0   0   0 137   0   2   0   0   1   0]\n [  0   0   2   0 115   0   2   0   0   0]\n [  0   0   1   1   0 138   0   0   2   1]\n [  1   0   0   1   0   0 141   0   1   1]\n [  0   1   0   0   1   0   0 144   1   0]\n [  1   0   2   3   4   1   1   0 154   2]\n [  0   1   0   1   2   0   0   4   0 135]]\n"
     ]
    }
   ],
   "source": [
    "mlp = MLPClassifier(hidden_layer_sizes=(400, 40), max_iter=150, alpha=1e-5,\n",
    "                    solver='lbfgs', tol=1e-4, random_state=1,\n",
    "                    learning_rate_init=.1)\n",
    "mlp.fit(X_train, y_train)\n",
    "print(\"Training set score: %f\" % mlp.score(X_train, y_train))\n",
    "print(\"Test set score: %f\" % mlp.score(X_test, y_test))\n",
    "\n",
    "predicted_data = clf.predict(X_test)\n",
    "acc = metrics.accuracy_score(y_test, predicted_data)\n",
    "print(fit_result)\n",
    "print(acc)\n",
    "print(metrics.confusion_matrix(y_test, predicted_data))"
   ]
  },
  {
   "cell_type": "code",
   "execution_count": null,
   "metadata": {},
   "outputs": [],
   "source": [
    ""
   ]
  }
 ],
 "metadata": {
  "kernelspec": {
   "display_name": "Python 3",
   "language": "python",
   "name": "python3"
  },
  "language_info": {
   "codemirror_mode": {
    "name": "ipython",
    "version": 3.0
   },
   "file_extension": ".py",
   "mimetype": "text/x-python",
   "name": "python",
   "nbconvert_exporter": "python",
   "pygments_lexer": "ipython3",
   "version": "3.5.3"
  }
 },
 "nbformat": 4,
 "nbformat_minor": 0
}