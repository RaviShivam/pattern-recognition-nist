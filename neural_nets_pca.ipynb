{
 "cells": [
  {
   "cell_type": "code",
   "execution_count": 29,
   "metadata": {
    "collapsed": true
   },
   "outputs": [],
   "source": [
    "import pr_utils\n",
    "from sklearn.decomposition import PCA\n",
    "\n",
    "def get_pca_dataset(n_components, X_train, X_test):\n",
    "    # print(X_train.shape)\n",
    "    \n",
    "    pca = PCA(n_components=n_components)\n",
    "    X_train_pca = pca.fit_transform(X_train)\n",
    "    \n",
    "    # print(X_train.shape)\n",
    "    \n",
    "    pca = PCA(n_components=n_components)\n",
    "    X_test_pca = pca.fit_transform(X_test)\n",
    "    \n",
    "    return X_train_pca, X_test_pca"
   ]
  },
  {
   "cell_type": "code",
   "execution_count": 33,
   "metadata": {},
   "outputs": [
    {
     "name": "stdout",
     "output_type": "stream",
     "text": [
      "(100, 900) (1000, 900)\n(100, 100) (1000, 110)\n"
     ]
    }
   ],
   "source": [
    "X_train, y_train = pr_utils.get_train_dataset_100()\n",
    "X_test, y_test = pr_utils.get_test_dataset_1000()\n",
    "X_train_pca, X_test_pca = get_pca_dataset(110, X_train, X_test)\n",
    "\n",
    "#shapes (1000,105) and (100,2) not aligned: 105 (dim 1) != 100 (dim 0)\n",
    "\n",
    "print(X_train.shape, X_test.shape)\n",
    "print(X_train_pca.shape, X_test_pca.shape)"
   ]
  },
  {
   "cell_type": "code",
   "execution_count": 23,
   "metadata": {},
   "outputs": [],
   "source": [
    "import numpy as np\n",
    "from sklearn import metrics\n",
    "from sklearn.neural_network import MLPClassifier\n",
    "\n",
    "\n",
    "def tune_layer_size(X_train, y_train, X_test, y_test):\n",
    "    # layer1_step = 10\n",
    "    # layer2_step = 5\n",
    "    # layer1_start = 10\n",
    "    # layer1_stop = 400\n",
    "    # layer2_start = 15\n",
    "    # layer2_stop = 100\n",
    "\n",
    "    layer1_step = 2\n",
    "    layer2_step = 2\n",
    "    layer1_start = 2\n",
    "    layer1_stop = 60\n",
    "    layer2_start = 11\n",
    "    layer2_stop = 60\n",
    "\n",
    "    results = {}\n",
    "\n",
    "    # tmp_X_train = []\n",
    "    # tmp_y_train = []\n",
    "    # for i in range(3):\n",
    "    #     x, y = X_train, y_train\n",
    "    #     tmp_X_train.append(x)\n",
    "    #     tmp_y_train.append(y)\n",
    "\n",
    "    for layer2 in range(layer2_start, layer2_stop, layer2_step):\n",
    "        for layer1 in range(layer1_start, layer1_stop, layer1_step):\n",
    "            tmp_results = []\n",
    "            # for ds in zip(tmp_X_train, tmp_y_train):\n",
    "            mlp = MLPClassifier(hidden_layer_sizes=(layer1, layer2), max_iter=150, alpha=1e-5,\n",
    "                                solver='lbfgs', tol=1e-4, random_state=1,\n",
    "                                learning_rate_init=.1)\n",
    "            # mlp.fit(ds[0], ds[1])\n",
    "            mlp.fit(X_train, y_train)\n",
    "\n",
    "            predicted_data = mlp.predict(X_test)\n",
    "            acc = metrics.accuracy_score(y_test, predicted_data)\n",
    "            tmp_results.append(acc)\n",
    "\n",
    "            results[(layer1, layer2)] = np.mean(tmp_results)\n",
    "        # print(\"progress\", (((layer2 - layer2_start) / layer2_step) + 1) / ((layer2_stop - layer2_start) / layer2_step))\n",
    "\n",
    "    max_key = max(results.keys(), key=(lambda key: results[key]))\n",
    "    # print(max_key)\n",
    "    # print(results.get(max_key))\n",
    "\n",
    "    return results, max_key, results.get(max_key)"
   ]
  },
  {
   "cell_type": "code",
   "execution_count": 35,
   "metadata": {},
   "outputs": [
    {
     "name": "stdout",
     "output_type": "stream",
     "text": [
      "currently processing 10 components\n"
     ]
    },
    {
     "name": "stdout",
     "output_type": "stream",
     "text": [
      "result= 0.387\ncurrently processing 14 components\n"
     ]
    },
    {
     "name": "stdout",
     "output_type": "stream",
     "text": [
      "result= 0.386\ncurrently processing 18 components\n"
     ]
    },
    {
     "name": "stdout",
     "output_type": "stream",
     "text": [
      "result= 0.391\ncurrently processing 22 components\n"
     ]
    },
    {
     "name": "stdout",
     "output_type": "stream",
     "text": [
      "result= 0.363\ncurrently processing 26 components\n"
     ]
    },
    {
     "name": "stdout",
     "output_type": "stream",
     "text": [
      "result= 0.396\ncurrently processing 30 components\n"
     ]
    },
    {
     "name": "stdout",
     "output_type": "stream",
     "text": [
      "result= 0.379\ncurrently processing 34 components\n"
     ]
    },
    {
     "name": "stdout",
     "output_type": "stream",
     "text": [
      "result= 0.385\ncurrently processing 38 components\n"
     ]
    },
    {
     "name": "stdout",
     "output_type": "stream",
     "text": [
      "result= 0.389\ncurrently processing 42 components\n"
     ]
    },
    {
     "name": "stdout",
     "output_type": "stream",
     "text": [
      "result= 0.378\ncurrently processing 46 components\n"
     ]
    },
    {
     "name": "stdout",
     "output_type": "stream",
     "text": [
      "result= 0.395\ncurrently processing 50 components\n"
     ]
    },
    {
     "name": "stdout",
     "output_type": "stream",
     "text": [
      "result= 0.387\ncurrently processing 54 components\n"
     ]
    },
    {
     "name": "stdout",
     "output_type": "stream",
     "text": [
      "result= 0.374\ncurrently processing 58 components\n"
     ]
    },
    {
     "name": "stdout",
     "output_type": "stream",
     "text": [
      "result= 0.378\ncurrently processing 62 components\n"
     ]
    },
    {
     "name": "stdout",
     "output_type": "stream",
     "text": [
      "result= 0.407\ncurrently processing 66 components\n"
     ]
    },
    {
     "name": "stdout",
     "output_type": "stream",
     "text": [
      "result= 0.385\ncurrently processing 70 components\n"
     ]
    },
    {
     "name": "stdout",
     "output_type": "stream",
     "text": [
      "result= 0.397\ncurrently processing 74 components\n"
     ]
    },
    {
     "name": "stdout",
     "output_type": "stream",
     "text": [
      "result= 0.396\ncurrently processing 78 components\n"
     ]
    },
    {
     "name": "stdout",
     "output_type": "stream",
     "text": [
      "result= 0.381\ncurrently processing 82 components\n"
     ]
    },
    {
     "name": "stdout",
     "output_type": "stream",
     "text": [
      "result= 0.391\ncurrently processing 86 components\n"
     ]
    },
    {
     "name": "stdout",
     "output_type": "stream",
     "text": [
      "result= 0.407\ncurrently processing 90 components\n"
     ]
    },
    {
     "name": "stdout",
     "output_type": "stream",
     "text": [
      "result= 0.39\ncurrently processing 94 components\n"
     ]
    },
    {
     "name": "stdout",
     "output_type": "stream",
     "text": [
      "result= 0.373\ncurrently processing 98 components\n"
     ]
    },
    {
     "name": "stdout",
     "output_type": "stream",
     "text": [
      "result= 0.386\n86 (0.40699999999999997, (18, 27))\n"
     ]
    }
   ],
   "source": [
    "results = {}\n",
    "X_train, y_train = pr_utils.get_train_dataset_100()\n",
    "X_test, y_test = pr_utils.get_test_dataset_1000()\n",
    "\n",
    "for n_components in range(10, X_train.shape[0], 4):\n",
    "    print(\"currently processing\", n_components, \"components\")\n",
    "    X_train_pca, X_test_pca = get_pca_dataset(n_components, X_train, X_test)\n",
    "\n",
    "    nn_result, max_key, best_performance = tune_layer_size(X_train_pca, y_train, X_test_pca, y_test)\n",
    "\n",
    "    results[n_components] = best_performance, max_key\n",
    "    print(\"result=\", best_performance)\n",
    "\n",
    "\n",
    "max_key = max(results.keys(), key=(lambda key: results[key][0]))\n",
    "\n",
    "print(max_key, results.get(max_key))"
   ]
  },
  {
   "cell_type": "code",
   "execution_count": 45,
   "metadata": {},
   "outputs": [],
   "source": [
    "import numpy as np\n",
    "from sklearn.decomposition import PCA\n",
    "from sklearn.metrics import accuracy_score\n",
    "from sklearn.model_selection import train_test_split\n",
    "\n",
    "\n",
    "def get_raw_pixels(full_data=True):\n",
    "    df = pd.read_csv('data/processed_nist_data.csv', sep=',', header=None)\n",
    "    if full_data:\n",
    "        df = df.as_matrix()\n",
    "        X, y = df[:, 1:], df[:, 0]\n",
    "        X_train, X_validate, y_train, y_validate = train_test_split(X, y, train_size=0.8, shuffle=True)\n",
    "    else:\n",
    "        df = df.sample(frac=1).reset_index(drop=True)  # shuffle data\n",
    "        df = df.groupby(0)\n",
    "        df100 = df.apply(lambda x: x.sample(frac=0.01)).as_matrix()\n",
    "        X_train, y_train = df100[:, 1:], df100[:, 0]\n",
    "        df1000 = df.apply(lambda x: x.sample(frac=0.1)).as_matrix()\n",
    "        X_validate, y_validate = df1000[:, 1:], df1000[:, 0]\n",
    "        \n",
    "    return X_train, X_validate, y_train, y_validate\n",
    "\n",
    "\n",
    "def experimentPCA_fulldata(classifier, full_data=True, filename=None, show_results=False, n_comp_auto=False):\n",
    "    performance = {}\n",
    "    \n",
    "    if full_data:\n",
    "        X_train, X_validate, y_train, y_validate = get_raw_pixels(full_data=True)\n",
    "    else:\n",
    "        X_train, X_validate, y_train, y_validate = get_raw_pixels(full_data=False)\n",
    "\n",
    "    if not n_comp_auto:\n",
    "        for n_comp in range(1, 30):\n",
    "            print(\"processing c=\", n_comp)\n",
    "            pca = PCA(n_components=n_comp)\n",
    "            classifier.fit(pca.fit_transform(X_train), y_train)\n",
    "            performance[n_comp] = accuracy_score(y_validate, classifier.predict(pca.transform(X_validate))) * 100\n",
    "        handle_plot(performance, show_results, filename)\n",
    "    else:\n",
    "        pca = PCA()\n",
    "        pca.fit(X_train)\n",
    "        variance = pca.explained_variance_\n",
    "        n_comp = max(np.argwhere(variance > 0.9))[0]\n",
    "        pca.n_components = n_comp\n",
    "        classifier.fit(pca.fit_transform(X_train), y_train)\n",
    "        performance[0] = accuracy_score(y_validate, classifier.predict(pca.transform(X_validate))) * 100\n",
    "\n",
    "    return performance, n_comp\n",
    "\n",
    "\n",
    "def handle_plot(performance, show_results, filename):\n",
    "    fig = plt.figure()\n",
    "    plt.title('Number of Components Retained vs Performance')\n",
    "    plt.xlabel('Number of Components')\n",
    "    plt.ylabel('Accuracy (%)')\n",
    "\n",
    "    plt.plot(performance.keys(), performance.values())\n",
    "    if show_results:\n",
    "        plt.show()\n",
    "    if filename:\n",
    "        pp = PdfPages(\"experiment-results/\" + filename + \".pdf\")\n",
    "        pp.savefig(fig)\n",
    "        pp.close()"
   ]
  },
  {
   "cell_type": "code",
   "execution_count": 46,
   "metadata": {},
   "outputs": [
    {
     "name": "stdout",
     "output_type": "stream",
     "text": [
      "processing c= 1\n"
     ]
    },
    {
     "name": "stdout",
     "output_type": "stream",
     "text": [
      "processing c= 2\n"
     ]
    },
    {
     "name": "stdout",
     "output_type": "stream",
     "text": [
      "processing c= 3\n"
     ]
    },
    {
     "name": "stdout",
     "output_type": "stream",
     "text": [
      "processing c= 4\n"
     ]
    },
    {
     "name": "stdout",
     "output_type": "stream",
     "text": [
      "processing c= 5\n"
     ]
    },
    {
     "name": "stdout",
     "output_type": "stream",
     "text": [
      "processing c= 6\nprocessing c= 7\n"
     ]
    },
    {
     "name": "stdout",
     "output_type": "stream",
     "text": [
      "processing c= 8\n"
     ]
    },
    {
     "name": "stdout",
     "output_type": "stream",
     "text": [
      "processing c= 9\nprocessing c= 10\n"
     ]
    },
    {
     "name": "stdout",
     "output_type": "stream",
     "text": [
      "processing c= 11\nprocessing c= 12\n"
     ]
    },
    {
     "name": "stdout",
     "output_type": "stream",
     "text": [
      "processing c= 13\nprocessing c= 14\n"
     ]
    },
    {
     "name": "stdout",
     "output_type": "stream",
     "text": [
      "processing c= 15\nprocessing c= 16\n"
     ]
    },
    {
     "name": "stdout",
     "output_type": "stream",
     "text": [
      "processing c= 17\nprocessing c= 18\n"
     ]
    },
    {
     "name": "stdout",
     "output_type": "stream",
     "text": [
      "processing c= 19\nprocessing c= 20\n"
     ]
    },
    {
     "name": "stdout",
     "output_type": "stream",
     "text": [
      "processing c= 21\nprocessing c= 22\n"
     ]
    },
    {
     "name": "stdout",
     "output_type": "stream",
     "text": [
      "processing c= 23\nprocessing c= 24\n"
     ]
    },
    {
     "name": "stdout",
     "output_type": "stream",
     "text": [
      "processing c= 25\nprocessing c= 26\n"
     ]
    },
    {
     "name": "stdout",
     "output_type": "stream",
     "text": [
      "processing c= 27\n"
     ]
    },
    {
     "name": "stdout",
     "output_type": "stream",
     "text": [
      "processing c= 28\nprocessing c= 29\n"
     ]
    },
    {
     "data": {
      "image/png": "[encoded data removed]",
      "text/plain": [
       "<matplotlib.figure.Figure at 0x23164cfcb70>"
      ]
     },
     "metadata": {},
     "output_type": "display_data"
    },
    {
     "data": {
      "text/plain": [
       "({1: 30.699999999999999,\n  2: 37.200000000000003,\n  3: 44.700000000000003,\n  4: 51.5,\n  5: 63.800000000000004,\n  6: 70.899999999999991,\n  7: 73.299999999999997,\n  8: 73.799999999999997,\n  9: 76.900000000000006,\n  10: 78.400000000000006,\n  11: 79.600000000000009,\n  12: 80.400000000000006,\n  13: 81.899999999999991,\n  14: 82.199999999999989,\n  15: 83.299999999999997,\n  16: 82.699999999999989,\n  17: 83.5,\n  18: 84.599999999999994,\n  19: 82.899999999999991,\n  20: 82.299999999999997,\n  21: 82.099999999999994,\n  22: 83.899999999999991,\n  23: 85.299999999999997,\n  24: 84.200000000000003,\n  25: 84.399999999999991,\n  26: 83.799999999999997,\n  27: 84.700000000000003,\n  28: 83.299999999999997,\n  29: 84.299999999999997},\n 29)"
      ]
     },
     "execution_count": 46,
     "metadata": {},
     "output_type": "execute_result"
    }
   ],
   "source": [
    "import pandas as pd\n",
    "from sklearn.neural_network import MLPClassifier\n",
    "import pr_utils\n",
    "\n",
    "mlp = MLPClassifier(hidden_layer_sizes=(330, 85), max_iter=150, alpha=1e-5,\n",
    "                    solver='lbfgs', tol=1e-4, random_state=1,\n",
    "                    learning_rate_init=.1)\n",
    "\n",
    "experimentPCA_fulldata(mlp, full_data=False, filename=\"NN_330_85_batch\", show_results=True, n_comp_auto=False)"
   ]
  },
  {
   "cell_type": "code",
   "execution_count": 42,
   "metadata": {},
   "outputs": [],
   "source": [
    ""
   ]
  },
  {
   "cell_type": "code",
   "execution_count": null,
   "metadata": {},
   "outputs": [],
   "source": [
    ""
   ]
  }
 ],
 "metadata": {
  "kernelspec": {
   "display_name": "Python 2",
   "language": "python",
   "name": "python2"
  },
  "language_info": {
   "codemirror_mode": {
    "name": "ipython",
    "version": 2.0
   },
   "file_extension": ".py",
   "mimetype": "text/x-python",
   "name": "python",
   "nbconvert_exporter": "python",
   "pygments_lexer": "ipython2",
   "version": "2.7.6"
  }
 },
 "nbformat": 4,
 "nbformat_minor": 0
}