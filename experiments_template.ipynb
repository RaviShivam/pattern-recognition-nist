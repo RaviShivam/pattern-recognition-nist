{
 "cells": [
  {
   "cell_type": "markdown",
   "metadata": {},
   "source": [
    "# Running Independent Component Analyses (ICA) template\n",
    "\n",
    "* predictor: The classifier which is used used during the performance testing\n",
    "* data_file: Is the dataset file which is to be used during the experiments. These data files are defined in the `prdatasets.py` file \n",
    "* max_components= Maximum number of components evaluated by the ICA\n",
    "* batch = If set to True, runs the experiment on batched data.\n",
    "* show_results= displays the experiments results if True\n",
    "* save_to_file= Saves the experiment results in `experiment-results` folder if provided."
   ]
  },
  {
   "cell_type": "code",
   "execution_count": 3,
   "metadata": {},
   "outputs": [
    {
     "data": {
      "image/png": "[encoded data removed]",
      "text/plain": [
       "<matplotlib.figure.Figure at 0x7f5a4fae85d0>"
      ]
     },
     "metadata": {},
     "output_type": "display_data"
    },
    {
     "data": {
      "text/plain": [
       "{1: 28.713999999999992,\n",
       " 2: 39.802000000000014,\n",
       " 3: 46.49499999999999,\n",
       " 4: 50.888999999999996,\n",
       " 5: 55.285999999999973,\n",
       " 6: 59.85799999999999,\n",
       " 7: 62.397999999999982,\n",
       " 8: 64.315000000000012,\n",
       " 9: 65.770999999999987,\n",
       " 10: 66.206999999999979,\n",
       " 11: 66.859999999999985,\n",
       " 12: 68.283999999999992,\n",
       " 13: 69.021999999999991,\n",
       " 14: 70.181999999999988,\n",
       " 15: 70.932999999999993,\n",
       " 16: 71.633999999999958,\n",
       " 17: 71.667000000000002,\n",
       " 18: 71.731999999999999,\n",
       " 19: 72.728000000000009,\n",
       " 20: 72.763999999999996,\n",
       " 21: 73.312000000000012,\n",
       " 22: 73.310000000000031,\n",
       " 23: 73.728999999999999,\n",
       " 24: 73.669999999999987,\n",
       " 25: 74.126999999999995,\n",
       " 26: 73.844999999999985,\n",
       " 27: 74.057999999999993,\n",
       " 28: 74.178999999999988,\n",
       " 29: 74.29800000000003,\n",
       " 30: 74.282000000000011,\n",
       " 31: 74.506,\n",
       " 32: 74.397999999999982,\n",
       " 33: 74.325999999999993,\n",
       " 34: 74.335999999999999,\n",
       " 35: 74.353000000000009,\n",
       " 36: 74.296000000000021,\n",
       " 37: 74.402000000000029,\n",
       " 38: 74.393000000000001,\n",
       " 39: 74.310999999999993,\n",
       " 40: 74.359000000000037,\n",
       " 41: 74.193999999999974,\n",
       " 42: 74.422999999999973,\n",
       " 43: 74.300000000000054,\n",
       " 44: 73.924000000000021,\n",
       " 45: 73.99499999999999,\n",
       " 46: 74.252999999999986,\n",
       " 47: 74.236000000000018,\n",
       " 48: 74.477000000000004,\n",
       " 49: 74.310000000000002,\n",
       " 50: 74.609999999999999,\n",
       " 51: 74.135000000000019,\n",
       " 52: 74.356000000000037,\n",
       " 53: 74.725000000000009,\n",
       " 54: 74.606999999999999,\n",
       " 55: 74.399000000000015,\n",
       " 56: 74.468999999999994,\n",
       " 57: 74.11399999999999,\n",
       " 58: 73.944999999999993,\n",
       " 59: 74.433999999999955,\n",
       " 60: 74.243999999999986,\n",
       " 61: 74.055000000000021,\n",
       " 62: 74.051999999999992,\n",
       " 63: 74.151000000000025,\n",
       " 64: 73.825999999999979,\n",
       " 65: 73.69599999999997,\n",
       " 66: 74.391999999999996,\n",
       " 67: 73.958000000000027,\n",
       " 68: 74.165999999999983,\n",
       " 69: 74.245000000000005,\n",
       " 70: 74.259,\n",
       " 71: 73.656000000000006,\n",
       " 72: 73.875,\n",
       " 73: 74.100000000000023,\n",
       " 74: 74.000999999999962,\n",
       " 75: 73.728999999999985,\n",
       " 76: 73.835000000000022,\n",
       " 77: 73.839000000000055,\n",
       " 78: 74.067000000000021,\n",
       " 79: 73.718000000000004,\n",
       " 80: 73.752999999999986,\n",
       " 81: 73.940999999999974,\n",
       " 82: 74.029000000000011,\n",
       " 83: 73.305999999999997,\n",
       " 84: 73.884999999999991,\n",
       " 85: 73.714000000000027,\n",
       " 86: 73.565000000000012,\n",
       " 87: 73.717000000000013,\n",
       " 88: 73.390999999999991,\n",
       " 89: 73.405000000000015,\n",
       " 90: 73.512,\n",
       " 91: 73.363000000000014,\n",
       " 92: 73.207000000000008,\n",
       " 93: 73.313000000000031,\n",
       " 94: 73.56200000000004,\n",
       " 95: 72.779999999999987,\n",
       " 96: 72.862000000000023,\n",
       " 97: 72.636000000000038,\n",
       " 98: 72.674999999999997,\n",
       " 99: 72.435999999999979}"
      ]
     },
     "execution_count": 3,
     "metadata": {},
     "output_type": "execute_result"
    }
   ],
   "source": [
    "\"\"\"\n",
    "Disclaimer: This code runs for ~2 hours.\n",
    "\"\"\"\n",
    "import pr_utils as pu\n",
    "from sklearn.svm import SVC\n",
    "from prdatasets import *\n",
    "\n",
    "predictor = SVC()\n",
    "pu.run_ICA_experiment(predictor, data_file=RAW_PIXELS_DATASET, max_components=100,\n",
    "                      batch=True, show_results=True, save_to_file=\"template_run\")"
   ]
  }
 ],
 "metadata": {
  "kernelspec": {
   "display_name": "Python 2",
   "language": "python",
   "name": "python2"
  },
  "language_info": {
   "codemirror_mode": {
    "name": "ipython",
    "version": 2
   },
   "file_extension": ".py",
   "mimetype": "text/x-python",
   "name": "python",
   "nbconvert_exporter": "python",
   "pygments_lexer": "ipython2",
   "version": "2.7.12"
  }
 },
 "nbformat": 4,
 "nbformat_minor": 2
}
