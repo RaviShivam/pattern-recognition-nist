{
 "cells": [
  {
   "cell_type": "code",
   "execution_count": 1,
   "metadata": {},
   "outputs": [
    {
     "ename": "NameError",
     "evalue": "name 'RAW_PIXELS_DATASET' is not defined",
     "output_type": "error",
     "traceback": [
      "\u001b[0;31m---------------------------------------------------------------------------\u001b[0m",
      "\u001b[0;31mNameError\u001b[0m                                 Traceback (most recent call last)",
      "\u001b[0;32m<ipython-input-1-c70d7a623f6b>\u001b[0m in \u001b[0;36m<module>\u001b[0;34m()\u001b[0m\n\u001b[1;32m      4\u001b[0m \u001b[0;34m\u001b[0m\u001b[0m\n\u001b[1;32m      5\u001b[0m \u001b[0mpredictor\u001b[0m \u001b[0;34m=\u001b[0m \u001b[0mSVC\u001b[0m\u001b[0;34m(\u001b[0m\u001b[0;34m)\u001b[0m\u001b[0;34m\u001b[0m\u001b[0m\n\u001b[0;32m----> 6\u001b[0;31m pu.run_ICA_experiment(predictor, RAW_PIXELS_DATASET, max_components=10,\n\u001b[0m\u001b[1;32m      7\u001b[0m                       batch=false, show_results=True, save_to_file=\"template_run\")\n",
      "\u001b[0;31mNameError\u001b[0m: name 'RAW_PIXELS_DATASET' is not defined"
     ]
    }
   ],
   "source": [
    "import pr_utils as pu\n",
    "from sklearn.svm import SVC\n",
    "import prdatasets\n",
    "\n",
    "predictor = SVC()\n",
    "pu.run_ICA_experiment(predictor, RAW_PIXELS_DATASET, max_components=10,\n",
    "                      batch=false, show_results=True, save_to_file=\"template_run\")"
   ]
  }
 ],
 "metadata": {
  "kernelspec": {
   "display_name": "Python 2",
   "language": "python",
   "name": "python2"
  },
  "language_info": {
   "codemirror_mode": {
    "name": "ipython",
    "version": 2
   },
   "file_extension": ".py",
   "mimetype": "text/x-python",
   "name": "python",
   "nbconvert_exporter": "python",
   "pygments_lexer": "ipython2",
   "version": "2.7.12"
  }
 },
 "nbformat": 4,
 "nbformat_minor": 2
}
