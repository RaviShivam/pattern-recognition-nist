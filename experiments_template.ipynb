{
 "cells": [
  {
   "cell_type": "markdown",
   "metadata": {},
   "source": [
    "# Running Independent Component Analyses (ICA) template\n",
    "\n",
    "* predictor: The classifier which is used used during the performance testing\n",
    "* data_file: Is the dataset file which is to be used during the experiments. These data files are defined in the `prdatasets.py` file \n",
    "* max_components= Maximum number of components evaluated by the ICA\n",
    "* batch = If set to True, runs the experiment on batched data.\n",
    "* show_results= displays the experiments results if True\n",
    "* save_to_file= Saves the experiment results in `experiment-results` folder if provided."
   ]
  },
  {
   "cell_type": "code",
   "execution_count": null,
   "metadata": {},
   "outputs": [],
   "source": [
    "\"\"\"\n",
    "Disclaimer: This code runs for ~2 hours.\n",
    "\"\"\"\n",
    "import pr_utils as pu\n",
    "from sklearn.svm import SVC\n",
    "from prdatasets import *\n",
    "\n",
    "pu.run_ICA_experiment(SVC(), data_file=RAW_PIXELS_DATASET, max_components=100,\n",
    "                      batch=False, show_results=True, save_to_file=\"template_run_full\")"
   ]
  },
  {
   "cell_type": "markdown",
   "metadata": {},
   "source": [
    "# Running Principle Component Analyses (ICA) template\n",
    "\n",
    "* predictor: The classifier which is used used during the performance testing\n",
    "* data_file: Is the dataset file which is to be used during the experiments. These data files are defined in the `prdatasets.py` file \n",
    "* max_components= Maximum number of components evaluated by the PCA. \n",
    "* batch = If set to True, runs the experiment on batched data.\n",
    "* show_results= displays the experiments results if True\n",
    "* save_to_file= Saves the experiment results in `experiment-results` folder if provided."
   ]
  },
  {
   "cell_type": "code",
   "execution_count": null,
   "metadata": {},
   "outputs": [],
   "source": [
    "\"\"\"\n",
    "Disclaimer: This code runs for ~2 hours.\n",
    "\"\"\"\n",
    "import pr_utils as pu\n",
    "from sklearn.svm import SVC\n",
    "from prdatasets import *\n",
    "\n",
    "pu.run_PCA_experiment(SVC(), data_file=RAW_PIXELS_DATASET, max_components=80,\n",
    "                      batch=False, show_results=True, save_to_file=\"template_run_batch\")"
   ]
  },
  {
   "cell_type": "code",
   "execution_count": null,
   "metadata": {},
   "outputs": [],
   "source": []
  }
 ],
 "metadata": {
  "kernelspec": {
   "display_name": "Python 2",
   "language": "python",
   "name": "python2"
  },
  "language_info": {
   "codemirror_mode": {
    "name": "ipython",
    "version": 2
   },
   "file_extension": ".py",
   "mimetype": "text/x-python",
   "name": "python",
   "nbconvert_exporter": "python",
   "pygments_lexer": "ipython2",
   "version": "2.7.12"
  }
 },
 "nbformat": 4,
 "nbformat_minor": 2
}
