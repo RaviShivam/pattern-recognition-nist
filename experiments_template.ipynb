{
 "cells": [
  {
   "cell_type": "code",
   "execution_count": 7,
   "metadata": {},
   "outputs": [
    {
     "data": {
      "text/plain": [
       "SVC(C=1.0, cache_size=200, class_weight=None, coef0=0.0,\n",
       "  decision_function_shape='ovr', degree=3, gamma='auto', kernel='rbf',\n",
       "  max_iter=-1, probability=False, random_state=None, shrinking=True,\n",
       "  tol=0.001, verbose=False)"
      ]
     },
     "execution_count": 7,
     "metadata": {},
     "output_type": "execute_result"
    }
   ],
   "source": [
    "import pr_utils as pu\n",
    "from sklearn.svm import SVC\n",
    "from sklearn.decomposition import FastICA\n",
    "from prdatasets import *\n",
    "import pandas as pd\n",
    "\n",
    "\n",
    "data = pd.read_csv(RAW_PIXELS_DATASET)\n",
    "data = pu.get_full_data(data)\n",
    "ica = FastICA(n_components=2, max_iter=1).fit(data[0], data[1])\n",
    "\n",
    "predictor = SVC()\n",
    "predictor.fit(ica.transform(data[0]), data[2])\n",
    "pu.run_ICA_experiment(predictor, RAW_PIXELS_DATASET, max_components=10,\n",
    "#                       batch=False, show_results=True, save_to_file=\"template_run\")"
   ]
  },
  {
   "cell_type": "markdown",
   "metadata": {},
   "source": [
    "# Running Independent Component Analyses (ICA) template\n",
    "\n",
    "* predictor: The classifier which is used used during the performance testing\n",
    "* data_file: Is the dataset file which is to be used during the experiments. These data files are defined in the `prdatasets.py` file \n",
    "* max_components= Maximum number of components evaluated by the ICA\n",
    "* batch = If set to True, runs the experiment on batched data.\n",
    "* show_results= displays the experiments results if True\n",
    "* save_to_file= Saves the experiment results in `experiment"
   ]
  },
  {
   "cell_type": "code",
   "execution_count": null,
   "metadata": {},
   "outputs": [],
   "source": [
    "import pr_utils as pu\n",
    "from sklearn.svm import SVC\n",
    "from prdatasets import *\n",
    "\n",
    "predictor = SVC()\n",
    "pu.run_ICA_experiment(predictor, data_file=RAW_PIXELS_DATASET, max_components=100,\n",
    "                      batch=True, show_results=True, save_to_file=\"template_run\")"
   ]
  },
  {
   "cell_type": "code",
   "execution_count": null,
   "metadata": {},
   "outputs": [],
   "source": []
  }
 ],
 "metadata": {
  "kernelspec": {
   "display_name": "Python 2",
   "language": "python",
   "name": "python2"
  },
  "language_info": {
   "codemirror_mode": {
    "name": "ipython",
    "version": 2
   },
   "file_extension": ".py",
   "mimetype": "text/x-python",
   "name": "python",
   "nbconvert_exporter": "python",
   "pygments_lexer": "ipython2",
   "version": "2.7.12"
  }
 },
 "nbformat": 4,
 "nbformat_minor": 2
}
