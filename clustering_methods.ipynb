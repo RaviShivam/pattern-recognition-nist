{
 "cells": [
  {
   "cell_type": "markdown",
   "metadata": {},
   "source": [
    "# Read data and split to train and test set"
   ]
  },
  {
   "cell_type": "code",
   "execution_count": 1,
   "metadata": {},
   "outputs": [
    {
     "name": "stderr",
     "output_type": "stream",
     "text": [
      "/home/shivam/prenv/local/lib/python2.7/site-packages/sklearn/model_selection/_split.py:2026: FutureWarning: From version 0.21, test_size will always complement train_size unless both are specified.\n",
      "  FutureWarning)\n"
     ]
    }
   ],
   "source": [
    "import pandas as pd\n",
    "import numpy as np\n",
    "from sklearn.model_selection import train_test_split\n",
    "from sklearn.metrics import accuracy_score\n",
    "from sklearn.cluster import KMeans\n",
    "from sklearn.decomposition import PCA\n",
    "\n",
    "raw_data = pd.read_csv(\"data/processed_nist_data.csv\", header=None).as_matrix()\n",
    "X, y = raw_data[:, 1:], raw_data[:, 0]\n",
    "X_train, X_test, y_train, y_test = train_test_split(X, y, train_size=0.8, shuffle=False)"
   ]
  },
  {
   "cell_type": "markdown",
   "metadata": {},
   "source": [
    "# K-Means clustering with raw images"
   ]
  },
  {
   "cell_type": "code",
   "execution_count": 3,
   "metadata": {},
   "outputs": [
    {
     "name": "stdout",
     "output_type": "stream",
     "text": [
      "Prediction accuracy of K-Means: 4.25%\n",
      "Prediction accuracy of K-Means with PCA: 1.95%\n"
     ]
    }
   ],
   "source": [
    "\"\"\"\n",
    "No feature extraction\n",
    "\"\"\"\n",
    "predictor= KMeans(n_clusters=10, n_init=100, n_jobs=8)\n",
    "predictor.fit(X_train, y_train)\n",
    "y_predicted = predictor.predict(X_test)\n",
    "print \"Prediction accuracy of K-Means: {}%\".format(accuracy_score(y_test, y_predicted)*100)\n",
    "\n",
    "\n",
    "\"\"\"\n",
    "PCA\n",
    "\"\"\"\n",
    "pca = PCA(n_components=100)\n",
    "predictor = KMeans(n_clusters=10, n_init=1000, n_jobs=8)\n",
    "predictor.fit(pca.fit_transform(X_train), y_train)\n",
    "\n",
    "x_test_pca = pca.transform(X_test)\n",
    "y_predicted = predictor.predict(x_test_pca)\n",
    "\n",
    "print \"Prediction accuracy of K-Means with PCA: {}%\".format(accuracy_score(y_test, y_predicted)*100)\n",
    "\n",
    "\"\"\"\n",
    "ICA\n",
    "\"\"\"\n",
    "x = \"\""
   ]
  },
  {
   "cell_type": "markdown",
   "metadata": {},
   "source": [
    "# K-Means clustering with extracted-features"
   ]
  },
  {
   "cell_type": "code",
   "execution_count": null,
   "metadata": {},
   "outputs": [],
   "source": []
  }
 ],
 "metadata": {
  "kernelspec": {
   "display_name": "Python 2",
   "language": "python",
   "name": "python2"
  },
  "language_info": {
   "codemirror_mode": {
    "name": "ipython",
    "version": 2
   },
   "file_extension": ".py",
   "mimetype": "text/x-python",
   "name": "python",
   "nbconvert_exporter": "python",
   "pygments_lexer": "ipython2",
   "version": "2.7.12"
  }
 },
 "nbformat": 4,
 "nbformat_minor": 2
}
