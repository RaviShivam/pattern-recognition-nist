{
 "cells": [
  {
   "cell_type": "markdown",
   "metadata": {},
   "source": [
    "# Some implemented methods in `prutils`\n",
    "Short overview of the implemented methods in prutils\n",
    "\n",
    "### Reading and generating train and validate sets\n",
    "Use either `get_full_data` or `get_random_batch` function. Provide either a filename or a Dataframe.\n",
    "\n",
    "### Testing classifier performance\n",
    "Use the `estimate_classifier_performance` function. Provide classifier, test features and test labels.\n",
    "\n",
    "### Running Independent Component Analyses (ICA) template\n",
    "\n",
    "* predictor: The classifier which is used used during the performance testing\n",
    "* data_file: Is the dataset file which is to be used during the experiments. These data files are defined in the `prdatasets.py` file \n",
    "* max_components= Maximum number of components evaluated by the ICA\n",
    "* batch = If set to True, runs the experiment on batched data.\n",
    "* show_results= displays the experiments results if True\n",
    "* save_to_file= Saves the experiment results in `experiment-results` folder if provided."
   ]
  },
  {
   "cell_type": "code",
   "execution_count": null,
   "metadata": {},
   "outputs": [],
   "source": [
    "\"\"\"\n",
    "Disclaimer: This code runs for ~2 hours.\n",
    "\"\"\"\n",
    "from prutils import * # also imports datafile constants\n",
    "from sklearn.svm import SVC\n",
    "import warnings\n",
    "warnings.filterwarnings(\"ignore\", category=UserWarning)\n",
    "\n",
    "\n",
    "run_ICA_experiment(SVC(), data_file=RAW_PIXELS_DATASET, max_components=60,\n",
    "                      batch=True, show_results=True, save_to_file=\"template_ica_batch\")"
   ]
  },
  {
   "cell_type": "markdown",
   "metadata": {},
   "source": [
    "### Running Principle Component Analyses (PCA) template\n",
    "\n",
    "* predictor: The classifier which is used used during the performance testing\n",
    "* data_file: Is the dataset file which is to be used during the experiments. These data files are defined in the `prdatasets.py` file \n",
    "* max_components= Maximum number of components evaluated by the PCA. \n",
    "* batch = If set to True, runs the experiment on batched data.\n",
    "* show_results= displays the experiments results if True\n",
    "* save_to_file= Saves the experiment results in `experiment-results` folder if provided."
   ]
  },
  {
   "cell_type": "code",
   "execution_count": null,
   "metadata": {},
   "outputs": [],
   "source": [
    "from sklearn.svm import SVC\n",
    "from prutils import *\n",
    "\n",
    "\"\"\"\n",
    "Run normal PCA with number of components in range\n",
    "\"\"\"\n",
    "run_PCA_experiment(SVC(), data_file=RAW_PIXELS_DATASET, max_components=80,\n",
    "                      batch=False, show_results=True, save_to_file=\"template_pca_full\")\n",
    "\n",
    "\"\"\"\n",
    "Run PCA, automatically detect optimal number of components (retainedVariance > 0.9)\n",
    "\"\"\"\n",
    "run_PCA_experiment(SVC(), data_file=RAW_PIXELS_DATASET, max_components='auto', batch=False)"
   ]
  },
  {
   "cell_type": "markdown",
   "metadata": {},
   "source": [
    "### Running Kernel Principle Component Analyses (PCA) template\n",
    "\n",
    "* predictor: The classifier which is used used during the performance testing\n",
    "* data_file: Is the dataset file which is to be used during the experiments. These data files are defined in the `prdatasets.py` file \n",
    "* max_components= Maximum number of components evaluated by the Kernel PCA. \n",
    "* batch = If set to True, runs the experiment on batched data.\n",
    "* show_results= displays the experiments results if True\n",
    "* save_to_file= Saves the experiment results in `experiment-results` folder if provided."
   ]
  },
  {
   "cell_type": "code",
   "execution_count": 1,
   "metadata": {},
   "outputs": [
    {
     "data": {
      "image/png": "[encoded data removed]",
      "text/plain": [
       "<matplotlib.figure.Figure at 0x7f6d5c167650>"
      ]
     },
     "metadata": {},
     "output_type": "display_data"
    }
   ],
   "source": [
    "from sklearn.svm import SVC\n",
    "from prutils import *\n",
    "\n",
    "\"\"\"\n",
    "Run normal Kernal PCA with number of components in range\n",
    "\"\"\"\n",
    "results = run_KPCA_experiment(SVC(), data_file=RAW_PIXELS_DATASET, max_components=60,\n",
    "                      batch=False, show_results=True, save_to_file=\"template_kpca_full\")"
   ]
  }
 ],
 "metadata": {
  "kernelspec": {
   "display_name": "Python 2",
   "language": "python",
   "name": "python2"
  },
  "language_info": {
   "codemirror_mode": {
    "name": "ipython",
    "version": 2
   },
   "file_extension": ".py",
   "mimetype": "text/x-python",
   "name": "python",
   "nbconvert_exporter": "python",
   "pygments_lexer": "ipython2",
   "version": "2.7.12"
  }
 },
 "nbformat": 4,
 "nbformat_minor": 2
}
