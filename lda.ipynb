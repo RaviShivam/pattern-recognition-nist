{
 "cells": [
  {
   "cell_type": "markdown",
   "metadata": {},
   "source": [
    "# Full data experiments"
   ]
  },
  {
   "cell_type": "code",
   "execution_count": null,
   "metadata": {},
   "outputs": [],
   "source": [
    "from prutils import *\n",
    "from sklearn.decomposition import PCA\n",
    "from sklearn.decomposition import FastICA\n",
    "from sklearn.discriminant_analysis import LinearDiscriminantAnalysis as LDA\n",
    "import warnings\n",
    "warnings.filterwarnings(\"ignore\", category=UserWarning)\n",
    "\n",
    "X, y = get_full_data(RAW_PIXELS_DATASET, split_validation=False)\n",
    "\n",
    "\"\"\"\n",
    "Results without processing\n",
    "\"\"\"\n",
    "lda = LDA().fit(X, y)\n",
    "print \"Performance without feature reduction: {}%\".format(estimate_classifier_performance_normal(lda, RAW_PIXELS_TEST))\n",
    "\n",
    "\"\"\"\n",
    "Results with PCA\n",
    "\"\"\"\n",
    "pca = PCA(n_components=30)\n",
    "lda = LDA()\n",
    "lda.fit(pca.fit_transform(X), y)\n",
    "print \"Performance with PCA: {}%\".format(estimate_classifier_performance_transform(lda, RAW_PIXELS_TEST, pca))\n",
    "\n",
    "\"\"\"\n",
    "Results with ICA\n",
    "\"\"\"\n",
    "ica = FastICA(n_components=30)\n",
    "lda = LDA()\n",
    "lda.fit(ica.fit_transform(X), y)\n",
    "print \"Performance with ICA: {}%\".format(estimate_classifier_performance_transform(lda, RAW_PIXELS_TEST, ica))"
   ]
  },
  {
   "cell_type": "markdown",
   "metadata": {},
   "source": [
    "# Batched data experiments"
   ]
  },
  {
   "cell_type": "code",
   "execution_count": null,
   "metadata": {},
   "outputs": [],
   "source": [
    "from prutils import *\n",
    "from sklearn.decomposition import PCA\n",
    "from sklearn.decomposition import FastICA\n",
    "from sklearn.discriminant_analysis import LinearDiscriminantAnalysis as LDA \n",
    "import warnings\n",
    "warnings.filterwarnings(\"ignore\", category=UserWarning)\n",
    "\n",
    "\n",
    "\"\"\"\n",
    "Results without processing\n",
    "\"\"\"\n",
    "X, y = get_random_batch(RAW_PIXELS_DATASET, split_validation=False)\n",
    "lda = LDA().fit(X, y)\n",
    "print \"Performance without feature reduction: {}%\".format(estimate_classifier_performance_normal(lda, RAW_PIXELS_TEST))\n",
    "\n",
    "\"\"\"\n",
    "Results with PCA\n",
    "\"\"\"\n",
    "X, y = get_random_batch(RAW_PIXELS_DATASET, split_validation=False)\n",
    "pca = PCA(n_components=20)\n",
    "lda = LDA()\n",
    "lda.fit(pca.fit_transform(X), y)\n",
    "print \"Performance with PCA: {}%\".format(estimate_classifier_performance_transform(lda, RAW_PIXELS_TEST, pca))\n",
    "\n",
    "\"\"\"\n",
    "Results with PCA\n",
    "\"\"\"\n",
    "X, y = get_random_batch(RAW_PIXELS_DATASET, split_validation=False)\n",
    "ica = FastICA(n_components=20)\n",
    "lda = LDA()\n",
    "lda.fit(ica.fit_transform(X), y)\n",
    "print \"Performance with ICA: {}%\".format(estimate_classifier_performance_transform(lda, RAW_PIXELS_TEST, ica))"
   ]
  },
  {
   "cell_type": "markdown",
   "metadata": {},
   "source": [
    "### PCA experiments"
   ]
  },
  {
   "cell_type": "code",
   "execution_count": 1,
   "metadata": {
    "scrolled": true
   },
   "outputs": [],
   "source": [
    "from prutils import *\n",
    "from sklearn.discriminant_analysis import LinearDiscriminantAnalysis as LDA \n",
    "import warnings\n",
    "warnings.filterwarnings(\"ignore\", category=UserWarning)\n",
    "warnings.filterwarnings(\"ignore\", category=RuntimeWarning)\n",
    "\n",
    "pca_full_raw = run_PCA_experiment(LDA(), RAW_PIXELS_DATASET, max_components = 50)\n",
    "pca_batch_raw = run_PCA_experiment(LDA(), RAW_PIXELS_DATASET, max_components = 50)\n",
    "\n",
    "pca_full_features = run_PCA_experiment(LDA(), IM_FEATURES_DATASET, max_components = 50)\n",
    "pca_batch_features = run_PCA_experiment(LDA(), IM_FEATURES_DATASET, max_components = 50)\n",
    "\n",
    "plot_performance([pca_full_raw, pca_batch_raw, pca_full_features, pca_batch_features], show_results=False, save_to_file=\"qda_pca\")"
   ]
  },
  {
   "cell_type": "markdown",
   "metadata": {},
   "source": [
    "### ICA experiments"
   ]
  },
  {
   "cell_type": "code",
   "execution_count": null,
   "metadata": {},
   "outputs": [],
   "source": [
    "from prutils import *\n",
    "from sklearn.discriminant_analysis import LinearDiscriminantAnalysis as LDA\n",
    "import warnings\n",
    "warnings.filterwarnings(\"ignore\", category=UserWarning)\n",
    "\n",
    "ica_full_raw = run_ICA_experiment(LDA(), RAW_PIXELS_DATASET, max_components = 50)\n",
    "ica_batch_raw = run_ICA_experiment(LDA(), RAW_PIXELS_DATASET, max_components = 50)\n",
    "\n",
    "ica_full_features = run_ICA_experiment(LDA(), IM_FEATURES_DATASET, max_components = 50)\n",
    "ica_batch_features = run_ICA_experiment(LDA(), IM_FEATURES_DATASET, max_components = 50)\n",
    "\n",
    "plot_performance([ica_full_raw, ica_batch_raw, ica_full_features, ica_batch_features], show_results=False, save_to_file=\"lda_ica\")"
   ]
  },
  {
   "cell_type": "markdown",
   "metadata": {},
   "source": [
    "### Kernel PCA experiments"
   ]
  },
  {
   "cell_type": "code",
   "execution_count": null,
   "metadata": {},
   "outputs": [],
   "source": [
    "from prutils import *\n",
    "from sklearn.discriminant_analysis import LinearDiscriminantAnalysis as LDA\n",
    "import warnings\n",
    "warnings.filterwarnings(\"ignore\", category=UserWarning)\n",
    "\n",
    "\n",
    "kpca_full_raw = run_KPCA_experiment(LDA(), RAW_PIXELS_DATASET, max_components = 50)\n",
    "kpca_batch_raw = run_KPCA_experiment(LDA(), RAW_PIXELS_DATASET, max_components = 50)\n",
    "\n",
    "kpca_full_features = run_KPCA_experiment(LDA(), IM_FEATURES_DATASET, max_components = 50)\n",
    "kpca_batch_features = run_KPCA_experiment(LDA(), IM_FEATURES_DATASET, max_components = 50)\n",
    "\n",
    "plot_performance([kpca_full_raw, kpca_batch_raw, kpca_full_features, kpca_batch_features], show_results=False, save_to_file=\"lda_kpca\")"
   ]
  }
 ],
 "metadata": {
  "kernelspec": {
   "display_name": "Python 2",
   "language": "python",
   "name": "python2"
  },
  "language_info": {
   "codemirror_mode": {
    "name": "ipython",
    "version": 2
   },
   "file_extension": ".py",
   "mimetype": "text/x-python",
   "name": "python",
   "nbconvert_exporter": "python",
   "pygments_lexer": "ipython2",
   "version": "2.7.12"
  }
 },
 "nbformat": 4,
 "nbformat_minor": 2
}
