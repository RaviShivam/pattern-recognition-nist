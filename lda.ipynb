{
 "cells": [
  {
   "cell_type": "markdown",
   "metadata": {},
   "source": [
    "# Full data experiments"
   ]
  },
  {
   "cell_type": "code",
   "execution_count": 5,
   "metadata": {},
   "outputs": [
    {
     "name": "stdout",
     "output_type": "stream",
     "text": [
      "data/preprocessed_test_nist_data.csv - feature reduction: 89.4%\n",
      "data/preprocessed_test_nist_data.csv - PCA: 90.5%\n",
      "data/preprocessed_test_nist_data.csv - ICA: 90.0%\n",
      "data/preprocessed_test_nist_data.csv - KPCA: 90.0%\n"
     ]
    }
   ],
   "source": [
    "from prutils import *\n",
    "from sklearn.decomposition import PCA\n",
    "from sklearn.decomposition import FastICA\n",
    "from sklearn.decomposition import KernelPCA\n",
    "from sklearn.discriminant_analysis import LinearDiscriminantAnalysis as LDA\n",
    "import warnings\n",
    "warnings.filterwarnings(\"ignore\", category=UserWarning)\n",
    "\n",
    "# train_datasets = [RAW_PIXELS_DATASET, IM_FEATURES_DATASET]\n",
    "# test_datasets = [RAW_PIXELS_TEST, IM_FEATURES_TEST]\n",
    "# pca_n = [40, 15]\n",
    "# ica_n = [30, 15]\n",
    "# kpca_n = [27, 16]\n",
    "\n",
    "train_datasets = [RAW_PIXELS_DATASET]\n",
    "test_datasets = [RAW_PIXELS_TEST]\n",
    "pca_n = [40]\n",
    "ica_n = [30]\n",
    "kpca_n = [27]\n",
    "\n",
    "for i in range(len(train_datasets)):\n",
    "    train_X, train_y = get_full_data(train_datasets[i], split_validation=False)\n",
    "\n",
    "    \"\"\"\n",
    "    Results without processing\n",
    "    \"\"\"\n",
    "    lda = LDA().fit(train_X, train_y)\n",
    "    performance = estimate_classifier_performance_normal(lda, test_datasets[i])\n",
    "    print \"{} - feature reduction: {}%\".format(test_datasets[i], performance)\n",
    "\n",
    "    \"\"\"\n",
    "    Results with PCA\n",
    "    \"\"\"\n",
    "    pca = PCA(n_components=pca_n[i])\n",
    "    lda = LDA().fit(pca.fit_transform(train_X), train_y)\n",
    "    performance = estimate_classifier_performance_transform(lda, test_datasets[i], pca)\n",
    "    print \"{} - PCA: {}%\".format(test_datasets[i], performance)\n",
    "\n",
    "    \"\"\"\n",
    "    Results with ICA\n",
    "    \"\"\"\n",
    "    ica = FastICA(n_components=ica_n[i])\n",
    "    lda = LDA().fit(ica.fit_transform(train_X), train_y)\n",
    "    performance = estimate_classifier_performance_transform(lda, test_datasets[i], ica)\n",
    "    print \"{} - ICA: {}%\".format(test_datasets[i], performance)\n",
    "    \n",
    "    \"\"\"\n",
    "    Results with KPCA\n",
    "    \"\"\"\n",
    "    kpca = KernelPCA(n_components=kpca_n[i])\n",
    "    lda = LDA().fit(kpca.fit_transform(train_X), train_y)\n",
    "    performance = estimate_classifier_performance_transform(lda, test_datasets[i], kpca)\n",
    "    print \"{} - KPCA: {}%\".format(test_datasets[i], performance)"
   ]
  },
  {
   "cell_type": "markdown",
   "metadata": {},
   "source": [
    "# Batched data experiments"
   ]
  },
  {
   "cell_type": "code",
   "execution_count": 6,
   "metadata": {},
   "outputs": [
    {
     "name": "stdout",
     "output_type": "stream",
     "text": [
      "data/preprocessed_test_nist_data.csv - feature reduction: 12.874%\n",
      "data/preprocessed_test_nist_data.csv - PCA: 29.724%\n",
      "data/preprocessed_test_nist_data.csv - ICA: 22.188%\n",
      "data/preprocessed_test_nist_data.csv - KPCA: 29.65%\n"
     ]
    }
   ],
   "source": [
    "from prutils import *\n",
    "from sklearn.decomposition import PCA\n",
    "from sklearn.decomposition import FastICA\n",
    "from sklearn.decomposition import KernelPCA\n",
    "from sklearn.discriminant_analysis import QuadraticDiscriminantAnalysis as LDA \n",
    "import warnings\n",
    "warnings.filterwarnings(\"ignore\", category=UserWarning)\n",
    "warnings.filterwarnings(\"ignore\", category=RuntimeWarning)\n",
    "\n",
    "# train_datasets = [RAW_PIXELS_DATASET, IM_FEATURES_DATASET]\n",
    "# test_datasets = [RAW_PIXELS_TEST, IM_FEATURES_TEST]\n",
    "# pca_n = [30, 15]\n",
    "# ica_n = [25, 15]\n",
    "# kpca_n = [23, 16]\n",
    "\n",
    "train_datasets = [RAW_PIXELS_DATASET]\n",
    "test_datasets = [RAW_PIXELS_TEST]\n",
    "pca_n = [30]\n",
    "ica_n = [25]\n",
    "kpca_n = [23]\n",
    "\n",
    "runs = 50\n",
    "\n",
    "for i in range(len(train_datasets)):\n",
    "    normal_performance = 0\n",
    "    pca_performance = 0\n",
    "    ica_performance = 0\n",
    "    kpca_performance = 0\n",
    "    \n",
    "    for _ in range(runs):\n",
    "        train_X, train_y = get_random_batch(train_datasets[i], split_validation=False)\n",
    "\n",
    "        \"\"\"\n",
    "        Results without processing\n",
    "        \"\"\"\n",
    "        lda = LDA().fit(train_X, train_y)\n",
    "        normal_performance += estimate_classifier_performance_normal(lda, test_datasets[i])\n",
    "\n",
    "        \"\"\"\n",
    "        Results with PCA\n",
    "        \"\"\"\n",
    "        pca = PCA(n_components=pca_n[i])\n",
    "        lda = LDA().fit(pca.fit_transform(train_X), train_y)\n",
    "        pca_performance += estimate_classifier_performance_transform(lda, test_datasets[i], pca)\n",
    "\n",
    "        \"\"\"\n",
    "        Results with ICA\n",
    "        \"\"\"\n",
    "        ica = FastICA(n_components=ica_n[i])\n",
    "        lda = LDA().fit(ica.fit_transform(train_X), train_y)\n",
    "        ica_performance += estimate_classifier_performance_transform(lda, test_datasets[i], ica)\n",
    "\n",
    "        \"\"\"\n",
    "        Results with KPCA\n",
    "        \"\"\"\n",
    "        kpca = KernelPCA(n_components=kpca_n[i])\n",
    "        lda = LDA().fit(kpca.fit_transform(train_X), train_y)\n",
    "        kpca_performance += estimate_classifier_performance_transform(lda, test_datasets[i], kpca)\n",
    "        \n",
    "    print \"{} - feature reduction: {}%\".format(test_datasets[i], normal_performance/float(runs))\n",
    "    print \"{} - PCA: {}%\".format(test_datasets[i], pca_performance/float(runs))\n",
    "    print \"{} - ICA: {}%\".format(test_datasets[i], ica_performance/float(runs))\n",
    "    print \"{} - KPCA: {}%\".format(test_datasets[i], kpca_performance/float(runs))"
   ]
  },
  {
   "cell_type": "markdown",
   "metadata": {},
   "source": [
    "### PCA experiments"
   ]
  },
  {
   "cell_type": "code",
   "execution_count": 1,
   "metadata": {
    "scrolled": true
   },
   "outputs": [],
   "source": [
    "from prutils import *\n",
    "from sklearn.discriminant_analysis import LinearDiscriminantAnalysis as LDA \n",
    "import warnings\n",
    "warnings.filterwarnings(\"ignore\", category=UserWarning)\n",
    "warnings.filterwarnings(\"ignore\", category=RuntimeWarning)\n",
    "\n",
    "pca_full_raw = run_PCA_experiment(LDA(), RAW_PIXELS_DATASET, max_components = 50, batch=False)\n",
    "pca_batch_raw = run_PCA_experiment(LDA(), RAW_PIXELS_DATASET, max_components = 50, batch=True)\n",
    "\n",
    "pca_full_features = run_PCA_experiment(LDA(), IM_FEATURES_DATASET, max_components = 50, batch=False)\n",
    "pca_batch_features = run_PCA_experiment(LDA(), IM_FEATURES_DATASET, max_components = 50, batch=True)\n",
    "\n",
    "plot_performance([pca_full_raw, pca_batch_raw, pca_full_features, pca_batch_features], show_results=False, save_to_file=\"lda_pca\")"
   ]
  },
  {
   "cell_type": "markdown",
   "metadata": {},
   "source": [
    "### ICA experiments"
   ]
  },
  {
   "cell_type": "code",
   "execution_count": 1,
   "metadata": {},
   "outputs": [],
   "source": [
    "from prutils import *\n",
    "from sklearn.discriminant_analysis import LinearDiscriminantAnalysis as LDA\n",
    "import warnings\n",
    "warnings.filterwarnings(\"ignore\", category=UserWarning)\n",
    "\n",
    "ica_full_raw = run_ICA_experiment(LDA(), RAW_PIXELS_DATASET, max_components = 50, batch=False)\n",
    "ica_batch_raw = run_ICA_experiment(LDA(), RAW_PIXELS_DATASET, max_components = 50, batch=True)\n",
    "\n",
    "ica_full_features = run_ICA_experiment(LDA(), IM_FEATURES_DATASET, max_components = 50, batch=False)\n",
    "ica_batch_features = run_ICA_experiment(LDA(), IM_FEATURES_DATASET, max_components = 50, batch=True)\n",
    "\n",
    "plot_performance([ica_full_raw, ica_batch_raw, ica_full_features, ica_batch_features], show_results=False, save_to_file=\"lda_ica\")"
   ]
  },
  {
   "cell_type": "markdown",
   "metadata": {},
   "source": [
    "### Kernel PCA experiments"
   ]
  },
  {
   "cell_type": "code",
   "execution_count": null,
   "metadata": {},
   "outputs": [],
   "source": [
    "from prutils import *\n",
    "from sklearn.discriminant_analysis import LinearDiscriminantAnalysis as LDA\n",
    "import warnings\n",
    "warnings.filterwarnings(\"ignore\", category=UserWarning)\n",
    "\n",
    "\n",
    "kpca_full_raw = run_KPCA_experiment(LDA(), RAW_PIXELS_DATASET, max_components = 50)\n",
    "kpca_batch_raw = run_KPCA_experiment(LDA(), RAW_PIXELS_DATASET, max_components = 50)\n",
    "\n",
    "kpca_full_features = run_KPCA_experiment(LDA(), IM_FEATURES_DATASET, max_components = 50)\n",
    "kpca_batch_features = run_KPCA_experiment(LDA(), IM_FEATURES_DATASET, max_components = 50)\n",
    "\n",
    "plot_performance([kpca_full_raw, kpca_batch_raw, kpca_full_features, kpca_batch_features], \n",
    "                 show_results=False, save_to_file=\"lda_kpca\")"
   ]
  }
 ],
 "metadata": {
  "kernelspec": {
   "display_name": "Python 2",
   "language": "python",
   "name": "python2"
  },
  "language_info": {
   "codemirror_mode": {
    "name": "ipython",
    "version": 2
   },
   "file_extension": ".py",
   "mimetype": "text/x-python",
   "name": "python",
   "nbconvert_exporter": "python",
   "pygments_lexer": "ipython2",
   "version": "2.7.12"
  }
 },
 "nbformat": 4,
 "nbformat_minor": 2
}
