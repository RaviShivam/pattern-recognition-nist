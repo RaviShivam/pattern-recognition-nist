{
 "cells": [
  {
   "cell_type": "markdown",
   "metadata": {},
   "source": [
    "# Full data experiments"
   ]
  },
  {
   "cell_type": "code",
   "execution_count": 1,
   "metadata": {},
   "outputs": [
    {
     "name": "stdout",
     "output_type": "stream",
     "text": [
      "Performance without feature reduction: 77.6%\n",
      "Performance with PCA: 95.7%\n",
      "Performance with ICA: 95.5%\n"
     ]
    }
   ],
   "source": [
    "from prutils import *\n",
    "from sklearn.decomposition import PCA\n",
    "from sklearn.decomposition import FastICA\n",
    "from sklearn.discriminant_analysis import LinearDiscriminantAnalysis as LDA\n",
    "import warnings\n",
    "warnings.filterwarnings(\"ignore\", category=UserWarning)\n",
    "\n",
    "X, y = get_full_data(RAW_PIXELS_DATASET, split_validation=False)\n",
    "\n",
    "\"\"\"\n",
    "Results without processing\n",
    "\"\"\"\n",
    "lda = LDA().fit(X, y)\n",
    "print \"Performance without feature reduction: {}%\".format(estimate_classifier_performance_normal(lda, RAW_PIXELS_TEST))\n",
    "\n",
    "\"\"\"\n",
    "Results with PCA\n",
    "\"\"\"\n",
    "pca = PCA(n_components=20)\n",
    "lda = LDA()\n",
    "lda.fit(pca.fit_transform(X), y)\n",
    "print \"Performance with PCA: {}%\".format(estimate_classifier_performance_transform(lda, RAW_PIXELS_TEST, pca))\n",
    "\n",
    "\"\"\"\n",
    "Results with PCA\n",
    "\"\"\"\n",
    "ica = FastICA(n_components=18)\n",
    "lda = LDA()\n",
    "lda.fit(ica.fit_transform(X), y)\n",
    "print \"Performance with ICA: {}%\".format(estimate_classifier_performance_transform(lda, RAW_PIXELS_TEST, ica))"
   ]
  },
  {
   "cell_type": "markdown",
   "metadata": {},
   "source": [
    "# Batched data experiments"
   ]
  },
  {
   "cell_type": "code",
   "execution_count": 1,
   "metadata": {},
   "outputs": [
    {
     "name": "stdout",
     "output_type": "stream",
     "text": [
      "Performance without feature reduction: 14.0%\n",
      "Performance with PCA: 27.5%\n",
      "Performance with ICA: 27.3%\n"
     ]
    }
   ],
   "source": [
    "from prutils import *\n",
    "from sklearn.decomposition import PCA\n",
    "from sklearn.decomposition import FastICA\n",
    "from sklearn.discriminant_analysis import LinearDiscriminantAnalysis as LDA \n",
    "import warnings\n",
    "warnings.filterwarnings(\"ignore\", category=UserWarning)\n",
    "\n",
    "\n",
    "\"\"\"\n",
    "Results without processing\n",
    "\"\"\"\n",
    "X, y = get_random_batch(RAW_PIXELS_DATASET, split_validation=False)\n",
    "lda = LDA().fit(X, y)\n",
    "print \"Performance without feature reduction: {}%\".format(estimate_classifier_performance_normal(lda, RAW_PIXELS_TEST))\n",
    "\n",
    "\"\"\"\n",
    "Results with PCA\n",
    "\"\"\"\n",
    "X, y = get_random_batch(RAW_PIXELS_DATASET, split_validation=False)\n",
    "pca = PCA(n_components=20)\n",
    "lda = LDA()\n",
    "lda.fit(pca.fit_transform(X), y)\n",
    "print \"Performance with PCA: {}%\".format(estimate_classifier_performance_transform(lda, RAW_PIXELS_TEST, pca))\n",
    "\n",
    "\"\"\"\n",
    "Results with PCA\n",
    "\"\"\"\n",
    "X, y = get_random_batch(RAW_PIXELS_DATASET, split_validation=False)\n",
    "ica = FastICA(n_components=18)\n",
    "lda = LDA()\n",
    "lda.fit(ica.fit_transform(X), y)\n",
    "print \"Performance with ICA: {}%\".format(estimate_classifier_performance_transform(lda, RAW_PIXELS_TEST, ica))"
   ]
  },
  {
   "cell_type": "markdown",
   "metadata": {},
   "source": [
    "### PCA experiments"
   ]
  },
  {
   "cell_type": "code",
   "execution_count": null,
   "metadata": {
    "scrolled": true
   },
   "outputs": [],
   "source": [
    "from prutils import *\n",
    "from sklearn.discriminant_analysis import LinearDiscriminantAnalysis as LDA \n",
    "import warnings\n",
    "warnings.filterwarnings(\"ignore\", category=UserWarning)\n",
    "warnings.filterwarnings(\"ignore\", category=RuntimeWarning)\n",
    "\n",
    "pca_full = run_PCA_experiment(LDA(), RAW_PIXELS_DATASET, max_components = 50, batch=False, show_results=True)\n",
    "pca_batch = run_PCA_experiment(LDA(), RAW_PIXELS_DATASET, max_components = 50, batch=True, show_results=True)"
   ]
  },
  {
   "cell_type": "markdown",
   "metadata": {},
   "source": [
    "### ICA experiments"
   ]
  },
  {
   "cell_type": "code",
   "execution_count": null,
   "metadata": {},
   "outputs": [],
   "source": [
    "from prutils import *\n",
    "from sklearn.discriminant_analysis import LinearDiscriminantAnalysis as LDA\n",
    "import warnings\n",
    "warnings.filterwarnings(\"ignore\", category=UserWarning)\n",
    "\n",
    "ica_full = run_ICA_experiment(LDA(), RAW_PIXELS_DATASET, max_components = 100, batch=False, show_results=True)\n",
    "ica_batch = run_ICA_experiment(LDA(), RAW_PIXELS_DATASET, max_components = 100, batch=True, show_results=True)"
   ]
  },
  {
   "cell_type": "markdown",
   "metadata": {},
   "source": [
    "### Kernel PCA experiments"
   ]
  },
  {
   "cell_type": "code",
   "execution_count": null,
   "metadata": {},
   "outputs": [],
   "source": [
    "from prutils import *\n",
    "from sklearn.discriminant_analysis import LinearDiscriminantAnalysis as QDA \n",
    "\n",
    "kpca_full = run_KPCA_experiment(LDA(), RAW_PIXELS_DATASET, max_components = 100, batch=False, show_results=True)\n",
    "kpca_batch = run_KPCA_experiment(LDA(), RAW_PIXELS_DATASET, max_components = 100, batch=True, show_results=True)"
   ]
  }
 ],
 "metadata": {
  "kernelspec": {
   "display_name": "Python 2",
   "language": "python",
   "name": "python2"
  },
  "language_info": {
   "codemirror_mode": {
    "name": "ipython",
    "version": 2
   },
   "file_extension": ".py",
   "mimetype": "text/x-python",
   "name": "python",
   "nbconvert_exporter": "python",
   "pygments_lexer": "ipython2",
   "version": "2.7.12"
  }
 },
 "nbformat": 4,
 "nbformat_minor": 2
}
