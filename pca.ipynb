{
 "cells": [
  {
   "cell_type": "code",
   "execution_count": 29,
   "metadata": {
    "collapsed": true
   },
   "outputs": [],
   "source": [
    "import pr_utils\n",
    "from sklearn.decomposition import PCA\n",
    "\n",
    "def get_pca_dataset(n_components, X_train, X_test):\n",
    "    # print(X_train.shape)\n",
    "    \n",
    "    pca = PCA(n_components=n_components)\n",
    "    X_train_pca = pca.fit_transform(X_train)\n",
    "    \n",
    "    # print(X_train.shape)\n",
    "    \n",
    "    pca = PCA(n_components=n_components)\n",
    "    X_test_pca = pca.fit_transform(X_test)\n",
    "    \n",
    "    return X_train_pca, X_test_pca"
   ]
  },
  {
   "cell_type": "code",
   "execution_count": 33,
   "metadata": {},
   "outputs": [
    {
     "name": "stdout",
     "output_type": "stream",
     "text": [
      "(100, 900) (1000, 900)\n(100, 100) (1000, 110)\n"
     ]
    }
   ],
   "source": [
    "X_train, y_train = pr_utils.get_train_dataset_100()\n",
    "X_test, y_test = pr_utils.get_test_dataset_1000()\n",
    "X_train_pca, X_test_pca = get_pca_dataset(110, X_train, X_test)\n",
    "\n",
    "#shapes (1000,105) and (100,2) not aligned: 105 (dim 1) != 100 (dim 0)\n",
    "\n",
    "print(X_train.shape, X_test.shape)\n",
    "print(X_train_pca.shape, X_test_pca.shape)"
   ]
  },
  {
   "cell_type": "code",
   "execution_count": 23,
   "metadata": {},
   "outputs": [],
   "source": [
    "import numpy as np\n",
    "from sklearn import metrics\n",
    "from sklearn.neural_network import MLPClassifier\n",
    "\n",
    "\n",
    "def tune_layer_size(X_train, y_train, X_test, y_test):\n",
    "    # layer1_step = 10\n",
    "    # layer2_step = 5\n",
    "    # layer1_start = 10\n",
    "    # layer1_stop = 400\n",
    "    # layer2_start = 15\n",
    "    # layer2_stop = 100\n",
    "\n",
    "    layer1_step = 2\n",
    "    layer2_step = 2\n",
    "    layer1_start = 2\n",
    "    layer1_stop = 60\n",
    "    layer2_start = 11\n",
    "    layer2_stop = 60\n",
    "\n",
    "    results = {}\n",
    "\n",
    "    # tmp_X_train = []\n",
    "    # tmp_y_train = []\n",
    "    # for i in range(3):\n",
    "    #     x, y = X_train, y_train\n",
    "    #     tmp_X_train.append(x)\n",
    "    #     tmp_y_train.append(y)\n",
    "\n",
    "    for layer2 in range(layer2_start, layer2_stop, layer2_step):\n",
    "        for layer1 in range(layer1_start, layer1_stop, layer1_step):\n",
    "            tmp_results = []\n",
    "            # for ds in zip(tmp_X_train, tmp_y_train):\n",
    "            mlp = MLPClassifier(hidden_layer_sizes=(layer1, layer2), max_iter=150, alpha=1e-5,\n",
    "                                solver='lbfgs', tol=1e-4, random_state=1,\n",
    "                                learning_rate_init=.1)\n",
    "            # mlp.fit(ds[0], ds[1])\n",
    "            mlp.fit(X_train, y_train)\n",
    "\n",
    "            predicted_data = mlp.predict(X_test)\n",
    "            acc = metrics.accuracy_score(y_test, predicted_data)\n",
    "            tmp_results.append(acc)\n",
    "\n",
    "            results[(layer1, layer2)] = np.mean(tmp_results)\n",
    "        # print(\"progress\", (((layer2 - layer2_start) / layer2_step) + 1) / ((layer2_stop - layer2_start) / layer2_step))\n",
    "\n",
    "    max_key = max(results.keys(), key=(lambda key: results[key]))\n",
    "    # print(max_key)\n",
    "    # print(results.get(max_key))\n",
    "\n",
    "    return results, max_key, results.get(max_key)"
   ]
  },
  {
   "cell_type": "code",
   "execution_count": 35,
   "metadata": {},
   "outputs": [
    {
     "name": "stdout",
     "output_type": "stream",
     "text": [
      "currently processing 10 components\n"
     ]
    },
    {
     "name": "stdout",
     "output_type": "stream",
     "text": [
      "result= 0.387\ncurrently processing 14 components\n"
     ]
    },
    {
     "name": "stdout",
     "output_type": "stream",
     "text": [
      "result= 0.386\ncurrently processing 18 components\n"
     ]
    },
    {
     "name": "stdout",
     "output_type": "stream",
     "text": [
      "result= 0.391\ncurrently processing 22 components\n"
     ]
    },
    {
     "name": "stdout",
     "output_type": "stream",
     "text": [
      "result= 0.363\ncurrently processing 26 components\n"
     ]
    },
    {
     "name": "stdout",
     "output_type": "stream",
     "text": [
      "result= 0.396\ncurrently processing 30 components\n"
     ]
    },
    {
     "name": "stdout",
     "output_type": "stream",
     "text": [
      "result= 0.379\ncurrently processing 34 components\n"
     ]
    },
    {
     "name": "stdout",
     "output_type": "stream",
     "text": [
      "result= 0.385\ncurrently processing 38 components\n"
     ]
    },
    {
     "name": "stdout",
     "output_type": "stream",
     "text": [
      "result= 0.389\ncurrently processing 42 components\n"
     ]
    },
    {
     "name": "stdout",
     "output_type": "stream",
     "text": [
      "result= 0.378\ncurrently processing 46 components\n"
     ]
    },
    {
     "name": "stdout",
     "output_type": "stream",
     "text": [
      "result= 0.395\ncurrently processing 50 components\n"
     ]
    },
    {
     "name": "stdout",
     "output_type": "stream",
     "text": [
      "result= 0.387\ncurrently processing 54 components\n"
     ]
    },
    {
     "name": "stdout",
     "output_type": "stream",
     "text": [
      "result= 0.374\ncurrently processing 58 components\n"
     ]
    },
    {
     "name": "stdout",
     "output_type": "stream",
     "text": [
      "result= 0.378\ncurrently processing 62 components\n"
     ]
    },
    {
     "name": "stdout",
     "output_type": "stream",
     "text": [
      "result= 0.407\ncurrently processing 66 components\n"
     ]
    },
    {
     "name": "stdout",
     "output_type": "stream",
     "text": [
      "result= 0.385\ncurrently processing 70 components\n"
     ]
    },
    {
     "name": "stdout",
     "output_type": "stream",
     "text": [
      "result= 0.397\ncurrently processing 74 components\n"
     ]
    },
    {
     "name": "stdout",
     "output_type": "stream",
     "text": [
      "result= 0.396\ncurrently processing 78 components\n"
     ]
    },
    {
     "name": "stdout",
     "output_type": "stream",
     "text": [
      "result= 0.381\ncurrently processing 82 components\n"
     ]
    },
    {
     "name": "stdout",
     "output_type": "stream",
     "text": [
      "result= 0.391\ncurrently processing 86 components\n"
     ]
    },
    {
     "name": "stdout",
     "output_type": "stream",
     "text": [
      "result= 0.407\ncurrently processing 90 components\n"
     ]
    },
    {
     "name": "stdout",
     "output_type": "stream",
     "text": [
      "result= 0.39\ncurrently processing 94 components\n"
     ]
    },
    {
     "name": "stdout",
     "output_type": "stream",
     "text": [
      "result= 0.373\ncurrently processing 98 components\n"
     ]
    },
    {
     "name": "stdout",
     "output_type": "stream",
     "text": [
      "result= 0.386\n86 (0.40699999999999997, (18, 27))\n"
     ]
    }
   ],
   "source": [
    "results = {}\n",
    "X_train, y_train = pr_utils.get_train_dataset_100()\n",
    "X_test, y_test = pr_utils.get_test_dataset_1000()\n",
    "\n",
    "for n_components in range(10, X_train.shape[0], 4):\n",
    "    print(\"currently processing\", n_components, \"components\")\n",
    "    X_train_pca, X_test_pca = get_pca_dataset(n_components, X_train, X_test)\n",
    "\n",
    "    nn_result, max_key, best_performance = tune_layer_size(X_train_pca, y_train, X_test_pca, y_test)\n",
    "\n",
    "    results[n_components] = best_performance, max_key\n",
    "    print(\"result=\", best_performance)\n",
    "\n",
    "\n",
    "max_key = max(results.keys(), key=(lambda key: results[key][0]))\n",
    "\n",
    "print(max_key, results.get(max_key))"
   ]
  },
  {
   "cell_type": "code",
   "execution_count": null,
   "metadata": {},
   "outputs": [],
   "source": [
    ""
   ]
  }
 ],
 "metadata": {
  "kernelspec": {
   "display_name": "Python 2",
   "language": "python",
   "name": "python2"
  },
  "language_info": {
   "codemirror_mode": {
    "name": "ipython",
    "version": 2.0
   },
   "file_extension": ".py",
   "mimetype": "text/x-python",
   "name": "python",
   "nbconvert_exporter": "python",
   "pygments_lexer": "ipython2",
   "version": "2.7.6"
  }
 },
 "nbformat": 4,
 "nbformat_minor": 0
}