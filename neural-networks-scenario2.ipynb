{
 "cells": [
  {
   "cell_type": "code",
   "execution_count": 1,
   "metadata": {
    "collapsed": true
   },
   "outputs": [
    {
     "name": "stdout",
     "output_type": "stream",
     "text": [
      "train size (100, 900)\ntest size (1000, 900)\n"
     ]
    }
   ],
   "source": [
    "import matplotlib.pyplot as plt\n",
    "import numpy as np\n",
    "import pandas as pd\n",
    "\n",
    "df = pd.read_csv('data/processed_nist_data.csv', sep=',', header=None)\n",
    "df = df.groupby(0)\n",
    "train_data = df.apply(lambda x: x.sample(frac=0.01))\n",
    "\n",
    "raw_data = np.array(train_data)\n",
    "labels = raw_data[:, 0]\n",
    "data = raw_data[:, 1:]\n",
    "\n",
    "X_train = data\n",
    "y_train = labels\n",
    "\n",
    "\n",
    "test_data = df.apply(lambda x: x.sample(frac=0.1))\n",
    "\n",
    "raw_data = np.array(test_data)\n",
    "labels = raw_data[:, 0]\n",
    "data = raw_data[:, 1:]\n",
    "X_test = data\n",
    "y_test = labels\n",
    "\n",
    "print(\"train size\", X_train.shape)\n",
    "print(\"test size\", X_test.shape)\n",
    "\n",
    "# X_train, X_test, y_train, y_test = train_test_split(data, labels, test_size=0.3, random_state=4)\n",
    "# print(X_train.shape)"
   ]
  },
  {
   "cell_type": "code",
   "execution_count": 2,
   "metadata": {},
   "outputs": [
    {
     "name": "stdout",
     "output_type": "stream",
     "text": [
      "Training set score: 1.000000\nTest set score: 0.793000\n0.793\nMLPClassifier(activation='relu', alpha=1e-05, batch_size=10, beta_1=0.9,\n       beta_2=0.999, early_stopping=False, epsilon=1e-08,\n       hidden_layer_sizes=(400, 40), learning_rate='constant',\n       learning_rate_init=0.1, max_iter=150, momentum=0.9,\n       nesterovs_momentum=True, power_t=0.5, random_state=1, shuffle=True,\n       solver='lbfgs', tol=0.0001, validation_fraction=0.1, verbose=10,\n       warm_start=False)\n"
     ]
    }
   ],
   "source": [
    "from sklearn.neural_network import MLPClassifier\n",
    "from sklearn import metrics\n",
    "\n",
    "mlp = MLPClassifier(hidden_layer_sizes=(400, 40), max_iter=150, alpha=1e-5,\n",
    "                    solver='lbfgs', tol=1e-4, random_state=1, verbose=10,\n",
    "                    learning_rate_init=.1, batch_size=10)\n",
    "fitted = mlp.fit(X_train, y_train)\n",
    "print(\"Training set score: %f\" % mlp.score(X_train, y_train))\n",
    "print(\"Test set score: %f\" % mlp.score(X_test, y_test))\n",
    "\n",
    "\n",
    "predicted_data = mlp.predict(X_test)\n",
    "acc = metrics.accuracy_score(y_test, predicted_data)\n",
    "print(acc)\n",
    "print(fitted)"
   ]
  },
  {
   "cell_type": "code",
   "execution_count": 57,
   "metadata": {},
   "outputs": [
    {
     "name": "stdout",
     "output_type": "stream",
     "text": [
      "[0.78300000000000003, 0.73799999999999999, 0.76700000000000002]\n0.762666666667\n"
     ]
    }
   ],
   "source": [
    "import pr_utils\n",
    "\n",
    "tmp_X_train = []\n",
    "tmp_y_train = []\n",
    "\n",
    "for i in range(3):\n",
    "    x, y = pr_utils.get_train_dataset_100()\n",
    "    tmp_X_train.append(x)\n",
    "    tmp_y_train.append(y)\n",
    "    \n",
    "\n",
    "tmp_results = []\n",
    "for ds in zip(tmp_X_train, tmp_y_train):\n",
    "    mlp = MLPClassifier(hidden_layer_sizes=(300, 40), max_iter=150, alpha=1e-5,\n",
    "                        solver='lbfgs', tol=1e-4, random_state=1, verbose=10,\n",
    "                        learning_rate_init=.1)\n",
    "    mlp.fit(ds[0], ds[1])\n",
    "\n",
    "    predicted_data = mlp.predict(X_test)\n",
    "    acc = metrics.accuracy_score(y_test, predicted_data)  \n",
    "    tmp_results.append(acc)\n",
    "\n",
    "\n",
    "print(tmp_results)\n",
    "print(np.mean(tmp_results))"
   ]
  },
  {
   "cell_type": "markdown",
   "metadata": {},
   "source": [
    "(330, 85)\n",
    "0.789"
   ]
  },
  {
   "cell_type": "code",
   "execution_count": 4,
   "metadata": {},
   "outputs": [
    {
     "name": "stdout",
     "output_type": "stream",
     "text": [
      "progress 0.058823529411764705\n"
     ]
    },
    {
     "name": "stdout",
     "output_type": "stream",
     "text": [
      "progress 0.11764705882352941\n"
     ]
    },
    {
     "name": "stdout",
     "output_type": "stream",
     "text": [
      "progress 0.17647058823529413\n"
     ]
    },
    {
     "name": "stdout",
     "output_type": "stream",
     "text": [
      "progress 0.23529411764705882\n"
     ]
    },
    {
     "name": "stdout",
     "output_type": "stream",
     "text": [
      "progress 0.29411764705882354\n"
     ]
    },
    {
     "name": "stdout",
     "output_type": "stream",
     "text": [
      "progress 0.35294117647058826\n"
     ]
    },
    {
     "name": "stdout",
     "output_type": "stream",
     "text": [
      "progress 0.4117647058823529\n"
     ]
    },
    {
     "name": "stdout",
     "output_type": "stream",
     "text": [
      "progress 0.47058823529411764\n"
     ]
    },
    {
     "name": "stdout",
     "output_type": "stream",
     "text": [
      "progress 0.5294117647058824\n"
     ]
    },
    {
     "name": "stdout",
     "output_type": "stream",
     "text": [
      "progress 0.5882352941176471\n"
     ]
    },
    {
     "name": "stdout",
     "output_type": "stream",
     "text": [
      "progress 0.6470588235294118\n"
     ]
    },
    {
     "name": "stdout",
     "output_type": "stream",
     "text": [
      "progress 0.7058823529411765\n"
     ]
    },
    {
     "name": "stdout",
     "output_type": "stream",
     "text": [
      "progress 0.7647058823529411\n"
     ]
    },
    {
     "name": "stdout",
     "output_type": "stream",
     "text": [
      "progress 0.8235294117647058\n"
     ]
    },
    {
     "name": "stdout",
     "output_type": "stream",
     "text": [
      "progress 0.8823529411764706\n"
     ]
    },
    {
     "name": "stdout",
     "output_type": "stream",
     "text": [
      "progress 0.9411764705882353\n"
     ]
    },
    {
     "name": "stdout",
     "output_type": "stream",
     "text": [
      "progress 1.0\n"
     ]
    }
   ],
   "source": [
    "import matplotlib.pyplot as plt\n",
    "import pr_utils\n",
    "\n",
    "layer1_step = 10\n",
    "layer2_step = 5\n",
    "layer1_start = 10\n",
    "layer1_stop = 400\n",
    "layer2_start = 15\n",
    "layer2_stop = 100\n",
    "\n",
    "results = {}\n",
    "\n",
    "tmp_X_train = []\n",
    "tmp_y_train = []\n",
    "for i in range(3):\n",
    "    x, y = pr_utils.get_train_dataset_100()\n",
    "    tmp_X_train.append(x)\n",
    "    tmp_y_train.append(y)\n",
    "\n",
    "for layer2 in range(layer2_start, layer2_stop, layer2_step):\n",
    "    for layer1 in range(layer1_start, layer1_stop, layer1_step):        \n",
    "        tmp_results = []\n",
    "        for ds in zip(tmp_X_train, tmp_y_train):\n",
    "            mlp = MLPClassifier(hidden_layer_sizes=(layer1, layer2), max_iter=150, alpha=1e-5,\n",
    "                                solver='lbfgs', tol=1e-4, random_state=1,\n",
    "                                learning_rate_init=.1)\n",
    "            mlp.fit(ds[0], ds[1])\n",
    "        \n",
    "            predicted_data = mlp.predict(X_test)\n",
    "            acc = metrics.accuracy_score(y_test, predicted_data)  \n",
    "            tmp_results.append(acc)        \n",
    "        \n",
    "        results[(layer1, layer2)] = np.mean(tmp_results)\n",
    "    print(\"progress\", (((layer2-layer2_start)/layer2_step)+1)/((layer2_stop-layer2_start)/layer2_step))\n",
    "\n",
    "\n",
    "\n",
    "\n",
    "# plt.plot([1, 2, 3, 4], [1, 4, 9, 16])\n",
    "# plt.axis([0, 6, 0, 20])\n",
    "# plt.show()"
   ]
  },
  {
   "cell_type": "code",
   "execution_count": 5,
   "metadata": {},
   "outputs": [
    {
     "name": "stdout",
     "output_type": "stream",
     "text": [
      "(330, 85)\n0.789\n"
     ]
    }
   ],
   "source": [
    "max_key = max(results.keys(), key=(lambda key: results[key]))\n",
    "print(max_key)\n",
    "print(results.get(max_key))"
   ]
  },
  {
   "cell_type": "markdown",
   "metadata": {},
   "source": [
    "(330, 85)\n",
    "0.789"
   ]
  }
 ],
 "metadata": {
  "kernelspec": {
   "display_name": "Python 3",
   "language": "python",
   "name": "python3"
  },
  "language_info": {
   "codemirror_mode": {
    "name": "ipython",
    "version": 3.0
   },
   "file_extension": ".py",
   "mimetype": "text/x-python",
   "name": "python",
   "nbconvert_exporter": "python",
   "pygments_lexer": "ipython3",
   "version": "3.5.3"
  }
 },
 "nbformat": 4,
 "nbformat_minor": 0
}