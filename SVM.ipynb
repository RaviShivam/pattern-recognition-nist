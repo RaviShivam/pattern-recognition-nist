{
 "cells": [
  {
   "cell_type": "code",
   "execution_count": 1,
   "metadata": {
    "collapsed": true
   },
   "outputs": [],
   "source": [
    "#SVM "
   ]
  },
  {
   "cell_type": "code",
   "execution_count": 2,
   "metadata": {},
   "outputs": [],
   "source": [
    "import numpy as np\n",
    "import matplotlib.pyplot as plt\n",
    "from sklearn.model_selection import train_test_split\n",
    "from numpy import genfromtxt\n",
    "from sklearn import svm\n",
    "from sklearn.metrics import accuracy_score\n",
    "from sklearn.feature_selection import VarianceThreshold\n",
    "from sklearn.decomposition import PCA, KernelPCA\n",
    "from skimage.feature import hog\n",
    "\n",
    "# Our dataset and targets\n",
    "my_data = genfromtxt('data/processed_nist_data.csv', delimiter=',')\n",
    "#my_data.shape\n",
    "X = my_data[:, 1:901]\n",
    "Y = my_data[:, 0]\n",
    "\n",
    "# Feature selection: remove features with low variance (Boolean variables --> Bernoulli variables)\n",
    "sel = VarianceThreshold(threshold=(.8 * (1 - .8)))\n",
    "X = sel.fit_transform(X)"
   ]
  },
  {
   "cell_type": "code",
   "execution_count": 3,
   "metadata": {},
   "outputs": [
    {
     "ename": "SyntaxError",
     "evalue": "invalid syntax (<ipython-input-3-b5c93eb18f74>, line 9)",
     "output_type": "error",
     "traceback": [
      "\u001b[1;36m  File \u001b[1;32m\"<ipython-input-3-b5c93eb18f74>\"\u001b[1;36m, line \u001b[1;32m9\u001b[0m\n\u001b[1;33m    kpca.fit(X)\u001b[0m\n\u001b[1;37m       ^\u001b[0m\n\u001b[1;31mSyntaxError\u001b[0m\u001b[1;31m:\u001b[0m invalid syntax\n"
     ]
    }
   ],
   "source": [
    "# Feature extraction \n",
    "\n",
    "# PCA\n",
    "#pca = PCA(n_components=X.shape[1])\n",
    "#pca.fit(X)\n",
    "\n",
    "# Kernel PCA\n",
    "kpca = KernelPCA(n_components=(X.shape[1])\n",
    "kpca.fit(X)\n",
    "\n",
    "X_train, X_test, y_train, y_test = train_test_split(X, Y, train_size=0.8, random_state=0)"
   ]
  },
  {
   "cell_type": "code",
   "execution_count": null,
   "metadata": {},
   "outputs": [],
   "source": [
    "# fit the model and testing with 3 different types of kernels\n",
    "for kernel in ('linear', 'poly', 'rbf'):\n",
    "    clf = svm.SVC(kernel=kernel, gamma='auto')\n",
    "    clf.fit(X_train, y_train)\n",
    "    # Test\n",
    "    y_pred = clf.predict(X_test)\n",
    "    # Accuracy\n",
    "    print(accuracy_score(y_test, y_pred, normalize=True, sample_weight=None)*100)\n",
    "    \n",
    "# Results \n",
    "# raw pixels: linear 95.4%, polynomial 79.65%, Radial Basis Function (RBF) 95.85% \n",
    "# feature selection: linear 93.7%, polynomial 88.15%, Radial Basis Function (RBF) 96.05% "
   ]
  },
  {
   "cell_type": "code",
   "execution_count": null,
   "metadata": {},
   "outputs": [],
   "source": [
    "X_train.shape"
   ]
  }
 ],
 "metadata": {
  "kernelspec": {
   "display_name": "Python 3",
   "language": "python",
   "name": "python3"
  },
  "language_info": {
   "codemirror_mode": {
    "name": "ipython",
    "version": 3
   },
   "file_extension": ".py",
   "mimetype": "text/x-python",
   "name": "python",
   "nbconvert_exporter": "python",
   "pygments_lexer": "ipython3",
   "version": "3.6.1"
  }
 },
 "nbformat": 4,
 "nbformat_minor": 2
}
