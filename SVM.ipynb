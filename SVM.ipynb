{
 "cells": [
  {
   "cell_type": "markdown",
   "metadata": {
    "collapsed": true
   },
   "source": [
    "# SVM"
   ]
  },
  {
   "cell_type": "code",
   "execution_count": 1,
   "metadata": {
    "collapsed": true
   },
   "outputs": [],
   "source": [
    "import numpy as np\n",
    "import matplotlib.pyplot as plt\n",
    "import prutils\n",
    "import pandas as pd\n",
    "from sklearn.model_selection import train_test_split\n",
    "from numpy import genfromtxt\n",
    "from sklearn import svm\n",
    "from sklearn.metrics import accuracy_score\n",
    "from sklearn.feature_selection import VarianceThreshold\n",
    "from sklearn.decomposition import PCA, KernelPCA, FastICA\n",
    "from sklearn.model_selection import cross_val_score\n",
    "from sklearn import model_selection\n",
    "from skimage.feature import hog\n",
    "from matplotlib.backends.backend_pdf import PdfPages"
   ]
  },
  {
   "cell_type": "code",
   "execution_count": 2,
   "metadata": {
    "collapsed": true
   },
   "outputs": [],
   "source": [
    "RAW_PIXELS_DATASET = \"data/processed_nist_data.csv\"\n",
    "IM_FEATURES_DATASET = \"data/im_features_nist_data.csv\""
   ]
  },
  {
   "cell_type": "code",
   "execution_count": 3,
   "metadata": {
    "collapsed": true
   },
   "outputs": [],
   "source": [
    "rbf_results = {}"
   ]
  },
  {
   "cell_type": "markdown",
   "metadata": {},
   "source": [
    "## Extract full dataset"
   ]
  },
  {
   "cell_type": "code",
   "execution_count": 4,
   "metadata": {},
   "outputs": [],
   "source": [
    "# Our dataset and targets\n",
    "#my_data = genfromtxt('data/im_features_nist_data.csv', delimiter=',')\n",
    "#print(my_data.shape)\n",
    "#X = my_data[1:10000, 1:my_data.shape[1]]\n",
    "#Y = my_data[1:10000, 0]\n",
    "\n",
    "# Feature selection: remove features with low variance (Boolean variables --> Bernoulli variables)\n",
    "#sel = VarianceThreshold(threshold=(.8 * (1 - .8)))\n",
    "#X = sel.fit_transform(X)"
   ]
  },
  {
   "cell_type": "markdown",
   "metadata": {},
   "source": [
    "## Extract batch dataset"
   ]
  },
  {
   "cell_type": "code",
   "execution_count": 14,
   "metadata": {},
   "outputs": [],
   "source": [
    "dataframe = pd.read_csv(IM_FEATURES_DATASET)\n",
    "dataframe = dataframe.groupby(\"label\")\n",
    "my_data = dataframe.apply(lambda x: x.sample(frac=0.01)).as_matrix()\n",
    "\n",
    "X = my_data[0:my_data.shape[0], 1:my_data.shape[1]]\n",
    "Y = my_data[0:my_data.shape[0], 0]\n",
    "\n",
    "# Feature selection: remove features with low variance (Boolean variables --> Bernoulli variables)\n",
    "sel = VarianceThreshold(threshold=(.8 * (1 - .8)))\n",
    "X = sel.fit_transform(X)"
   ]
  },
  {
   "cell_type": "code",
   "execution_count": 6,
   "metadata": {},
   "outputs": [],
   "source": [
    "#clf = svm.SVC(kernel='rbf', gamma='auto')\n",
    "##kfold = model_selection.KFold(n_splits=3)\n",
    "#scores = model_selection.cross_val_score(clf, X, Y)\n",
    "#print(scores)\n",
    "#accuracy = np.mean(scores)\n",
    "#print(accuracy*100)"
   ]
  },
  {
   "cell_type": "markdown",
   "metadata": {},
   "source": [
    "## Cross validation to estimate the accuracy with the batch set "
   ]
  },
  {
   "cell_type": "code",
   "execution_count": 7,
   "metadata": {},
   "outputs": [],
   "source": [
    "#print(X.shape)\n",
    "#for num_components in range(1, X.shape[1], 2):\n",
    "#    \n",
    "#    #if num_components > X.shape[1]:\n",
    "#     #   num_components = X.shape[1]\n",
    "#\n",
    "#    # Feature extraction\n",
    "#    \n",
    "#    # PCA\n",
    "#    #pca = PCA(n_components=num_components, svd_solver='auto')\n",
    "#    #X_new = pca.fit_transform(X)\n",
    "#    \n",
    "#    # Kernel PCA\n",
    "#    #kpca = KernelPCA(n_components=num_components)\n",
    "#    #X_new = kpca.fit_transform(X)\n",
    "#    \n",
    "#    # ICA \n",
    "#    ica = FastICA(n_components=num_components, max_iter=1000)\n",
    "#    X_new = ica.fit_transform(X, Y)\n",
    "#    \n",
    "#    print(X_new.shape)\n",
    "#    \n",
    "#    clf = svm.SVC(kernel='rbf', gamma='auto')\n",
    "#    scores = model_selection.cross_val_score(clf, X_new, Y)\n",
    "#    print(scores)\n",
    "#    accuracy = np.mean(scores)*100\n",
    "#    print(accuracy)\n",
    "#    rbf_results[num_components] = accuracy"
   ]
  },
  {
   "cell_type": "code",
   "execution_count": 8,
   "metadata": {},
   "outputs": [
    {
     "name": "stdout",
     "output_type": "stream",
     "text": [
      "(100, 24)\n",
      "(100,)\n"
     ]
    }
   ],
   "source": [
    "print(X.shape)\n",
    "print(Y.shape)"
   ]
  },
  {
   "cell_type": "code",
   "execution_count": 9,
   "metadata": {},
   "outputs": [
    {
     "name": "stdout",
     "output_type": "stream",
     "text": [
      "(100, 1)\n",
      "0.0\n",
      "(100, 3)\n",
      "0.0\n",
      "(100, 5)\n",
      "0.0\n",
      "(100, 7)\n",
      "0.0\n",
      "(100, 9)\n",
      "0.0\n",
      "(100, 11)\n",
      "0.0\n"
     ]
    },
    {
     "name": "stderr",
     "output_type": "stream",
     "text": [
      "C:\\Users\\USER\\Anaconda3\\lib\\site-packages\\sklearn\\decomposition\\fastica_.py:116: UserWarning: FastICA did not converge. Consider increasing tolerance or the maximum number of iterations.\n",
      "  warnings.warn('FastICA did not converge. Consider increasing '\n"
     ]
    },
    {
     "name": "stdout",
     "output_type": "stream",
     "text": [
      "(100, 13)\n",
      "0.0\n",
      "(100, 15)\n",
      "0.0\n",
      "(100, 17)\n",
      "0.0\n",
      "(100, 19)\n",
      "20.0\n",
      "(100, 21)\n",
      "25.0\n",
      "(100, 23)\n",
      "25.0\n"
     ]
    }
   ],
   "source": [
    "# Feature extraction \n",
    "\n",
    "for num_components in range(1, X.shape[1], 2):\n",
    "    \n",
    "    if num_components > X.shape[1]:\n",
    "        num_components = X.shape[1]\n",
    "        \n",
    "    # PCA\n",
    "    #pca = PCA(n_components=num_components, svd_solver='auto')\n",
    "    #X_new = pca.fit_transform(X)\n",
    "    \n",
    "    # Kernel PCA\n",
    "    #kpca = KernelPCA(n_components=num_components)\n",
    "    #X_new = kpca.fit_transform(X)\n",
    "   \n",
    "    # ICA \n",
    "    ica = FastICA(n_components=num_components, max_iter=1000)\n",
    "    X_new = ica.fit_transform(X, Y)\n",
    "   \n",
    "    print(X_new.shape)\n",
    "   \n",
    "    X_train, X_test, y_train, y_test = train_test_split(X_new, Y, train_size=0.8, random_state=0)\n",
    "    X_train = np.round(X_train, 2)\n",
    "   \n",
    "    clf = svm.SVC(kernel='rbf', gamma='auto')\n",
    "    clf.fit(X_train, y_train)\n",
    "    # Test\n",
    "    y_pred = clf.predict(X_test)\n",
    "    # Accuracy\n",
    "    accuracy = accuracy_score(y_test, y_pred, normalize=True, sample_weight=None)*100\n",
    "    print(accuracy)\n",
    "    rbf_results[num_components] = accuracy\n",
    "    #results.append(accuracy)"
   ]
  },
  {
   "cell_type": "code",
   "execution_count": 10,
   "metadata": {},
   "outputs": [],
   "source": [
    "## fit the model and testing with 3 different types of kernels\n",
    "#for kernel in ('linear', 'poly', 'rbf'):\n",
    "#    clf = svm.SVC(kernel=kernel, gamma='auto')\n",
    "#    clf.fit(X_train, y_train)\n",
    "#    # Test\n",
    "#    y_pred = clf.predict(X_test)\n",
    "#    # Accuracy\n",
    "#    print(accuracy_score(y_test, y_pred, normalize=True, sample_weight=None)*100)\n",
    "\n",
    "#X_train, X_test, y_train, y_test = train_test_split(X, Y, train_size=0.8, random_state=0)\n",
    "#\n",
    "#clf = svm.SVC(kernel='rbf', gamma='auto')\n",
    "#clf.fit(X_train, y_train)\n",
    "## Test\n",
    "#y_pred = clf.predict(X_test)\n",
    "## Accuracy\n",
    "#accuracy = accuracy_score(y_test, y_pred, normalize=True, sample_weight=None)*100\n",
    "#print(accuracy)"
   ]
  },
  {
   "cell_type": "code",
   "execution_count": null,
   "metadata": {},
   "outputs": [],
   "source": []
  },
  {
   "cell_type": "code",
   "execution_count": 11,
   "metadata": {},
   "outputs": [
    {
     "data": {
      "image/png": "[encoded data removed]",
      "text/plain": [
       "<matplotlib.figure.Figure at 0x1e9f2afe470>"
      ]
     },
     "metadata": {},
     "output_type": "display_data"
    }
   ],
   "source": [
    "#save_to_file = 'FullDataset_MIR_SVM_ICA'\n",
    "\n",
    "#print(rbf_results.keys())\n",
    "#print(rbf_results.values())\n",
    "\n",
    "pp = PdfPages(\"experiment-results/\" + save_to_file + \".pdf\")\n",
    "\n",
    "fig = plt.figure()\n",
    "plt.rc('grid', linestyle='-', color='black')\n",
    "plt.title('Number of Components Retained vs Performance')\n",
    "plt.xlabel('Number of Components')\n",
    "plt.ylabel('Accuracy (%)')\n",
    "plt.ylim(0, 100)\n",
    "plt.grid(True)\n",
    "plt.plot(np.fromiter(rbf_results.keys(),dtype=float), np.fromiter(rbf_results.values(),dtype=float))\n",
    "plt.show()\n",
    "\n",
    "pp.savefig(fig)\n",
    "pp.close()"
   ]
  },
  {
   "cell_type": "code",
   "execution_count": 12,
   "metadata": {},
   "outputs": [
    {
     "data": {
      "text/plain": [
       "25.0"
      ]
     },
     "execution_count": 12,
     "metadata": {},
     "output_type": "execute_result"
    }
   ],
   "source": [
    "max(rbf_results.values())"
   ]
  },
  {
   "cell_type": "code",
   "execution_count": 13,
   "metadata": {
    "collapsed": true
   },
   "outputs": [],
   "source": [
    "# Results \n",
    "# raw pixels: linear 95.4%, polynomial 79.65%, Radial Basis Function (RBF) 95.85% \n",
    "# after feature selection: linear 93.7%, polynomial 88.15%, Radial Basis Function (RBF) 96.05% \n",
    "# PCA: Radial Basis Function (RBF) 98.45% "
   ]
  }
 ],
 "metadata": {
  "kernelspec": {
   "display_name": "Python 3",
   "language": "python",
   "name": "python3"
  },
  "language_info": {
   "codemirror_mode": {
    "name": "ipython",
    "version": 3
   },
   "file_extension": ".py",
   "mimetype": "text/x-python",
   "name": "python",
   "nbconvert_exporter": "python",
   "pygments_lexer": "ipython3",
   "version": "3.6.1"
  }
 },
 "nbformat": 4,
 "nbformat_minor": 2
}
