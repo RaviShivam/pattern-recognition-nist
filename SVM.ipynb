{
 "cells": [
  {
   "cell_type": "code",
   "execution_count": 5,
   "metadata": {
    "collapsed": true
   },
   "outputs": [],
   "source": [
    "#SVM "
   ]
  },
  {
   "cell_type": "code",
   "execution_count": 26,
   "metadata": {},
   "outputs": [
    {
     "name": "stdout",
     "output_type": "stream",
     "text": [
      "95.4\n",
      "79.65\n",
      "95.85\n"
     ]
    }
   ],
   "source": [
    "import numpy as np\n",
    "import matplotlib.pyplot as plt\n",
    "from sklearn.model_selection import train_test_split\n",
    "from numpy import genfromtxt\n",
    "from sklearn import svm\n",
    "from sklearn.metrics import accuracy_score\n",
    "\n",
    "# Our dataset and targets\n",
    "my_data = genfromtxt('data/processed_nist_data.csv', delimiter=',')\n",
    "#my_data.shape\n",
    "X = my_data[:, 1:901]\n",
    "Y = my_data[:, 0]\n",
    "X_train, X_test, y_train, y_test = train_test_split(X, Y, train_size=0.8, random_state=0)\n",
    "\n",
    "# fit the model and testing with 3 different types of kernels\n",
    "for kernel in ('linear', 'poly', 'rbf'):\n",
    "    clf = svm.SVC(kernel=kernel, gamma='auto')\n",
    "    clf.fit(X_train, y_train)\n",
    "    # Test\n",
    "    y_pred = clf.predict(X_test)\n",
    "    # Accuracy\n",
    "    print(accuracy_score(y_test, y_pred, normalize=True, sample_weight=None)*100)\n",
    "    \n",
    "# Results: linear 95.4%, polynomial 79.65%, Radial Basis Function (RBF) 95.85% "
   ]
  }
 ],
 "metadata": {
  "kernelspec": {
   "display_name": "Python 3",
   "language": "python",
   "name": "python3"
  },
  "language_info": {
   "codemirror_mode": {
    "name": "ipython",
    "version": 3
   },
   "file_extension": ".py",
   "mimetype": "text/x-python",
   "name": "python",
   "nbconvert_exporter": "python",
   "pygments_lexer": "ipython3",
   "version": "3.6.1"
  }
 },
 "nbformat": 4,
 "nbformat_minor": 2
}
