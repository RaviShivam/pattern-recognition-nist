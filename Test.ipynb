{
 "cells": [
  {
   "cell_type": "code",
   "execution_count": null,
   "metadata": {},
   "outputs": [],
   "source": [
    "from prutils import *\n",
    "from sklearn.linear_model import Perceptron\n",
    "import warnings\n",
    "warnings.filterwarnings(\"ignore\", category=UserWarning)\n",
    "warnings.filterwarnings(\"ignore\", category=FutureWarning)\n",
    "\n",
    "pca_full_raw = run_PCA_experiment(Perceptron(), RAW_PIXELS_DATASET, max_components = 50, batch=False)\n",
    "pca_batch_raw = run_PCA_experiment(Perceptron(), RAW_PIXELS_DATASET, max_components = 50, batch=True)\n",
    "\n",
    "pca_full_features = run_PCA_experiment(Perceptron(), IM_FEATURES_DATASET, max_components = 50, batch=False)\n",
    "pca_batch_features = run_PCA_experiment(Perceptron(), IM_FEATURES_DATASET, max_components = 50, batch=True)\n",
    "\n",
    "plot_performance([pca_full_raw, pca_batch_raw, pca_full_features, pca_batch_features], show_results=False, save_to_file=\"testing_saves\")"
   ]
  },
  {
   "cell_type": "code",
   "execution_count": null,
   "metadata": {},
   "outputs": [],
   "source": [
    "print \"done\""
   ]
  }
 ],
 "metadata": {
  "kernelspec": {
   "display_name": "Python 2",
   "language": "python",
   "name": "python2"
  },
  "language_info": {
   "codemirror_mode": {
    "name": "ipython",
    "version": 2
   },
   "file_extension": ".py",
   "mimetype": "text/x-python",
   "name": "python",
   "nbconvert_exporter": "python",
   "pygments_lexer": "ipython2",
   "version": "2.7.12"
  }
 },
 "nbformat": 4,
 "nbformat_minor": 2
}
