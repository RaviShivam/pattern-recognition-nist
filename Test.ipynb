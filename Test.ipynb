{
 "cells": [
  {
   "cell_type": "code",
   "execution_count": 3,
   "metadata": {},
   "outputs": [],
   "source": [
    "from prutils import *\n",
    "from sklearn.discriminant_analysis import QuadraticDiscriminantAnalysis as QDA \n",
    "import warnings\n",
    "warnings.filterwarnings(\"ignore\", category=UserWarning)\n",
    "\n",
    "\"\"\"\n",
    "Results without processing\n",
    "\"\"\"\n",
    "train_data = get_full_data(RAW_PIXELS_DATASET, split_validation=False)\n",
    "qda = QDA().fit(train_data[0], train_data[1])"
   ]
  },
  {
   "cell_type": "code",
   "execution_count": 2,
   "metadata": {},
   "outputs": [
    {
     "name": "stdout",
     "output_type": "stream",
     "text": [
      "Performance without feature reduction: 77.6%\n",
      "Performance with PCA: 95.7%\n",
      "Performance with ICA: 95.5%\n"
     ]
    }
   ],
   "source": [
    "from prutils import *\n",
    "from sklearn.decomposition import PCA\n",
    "from sklearn.decomposition import FastICA\n",
    "from sklearn.discriminant_analysis import QuadraticDiscriminantAnalysis as QDA \n",
    "import warnings\n",
    "warnings.filterwarnings(\"ignore\", category=UserWarning)\n",
    "\n",
    "X, y = get_full_data(RAW_PIXELS_DATASET, split_validation=False)\n",
    "\n",
    "\"\"\"\n",
    "Results without processing\n",
    "\"\"\"\n",
    "qda = QDA().fit(X, y)\n",
    "print \"Performance without feature reduction: {}%\".format(estimate_classifier_performance_normal(qda, RAW_PIXELS_TEST))\n",
    "\n",
    "\"\"\"\n",
    "Results with PCA\n",
    "\"\"\"\n",
    "pca = PCA(n_components=20)\n",
    "qda = QDA()\n",
    "qda.fit(pca.fit_transform(X), y)\n",
    "print \"Performance with PCA: {}%\".format(estimate_classifier_performance_transform(qda, RAW_PIXELS_TEST, pca))\n",
    "\n",
    "\"\"\"\n",
    "Results with PCA\n",
    "\"\"\"\n",
    "ica = FastICA(n_components=18)\n",
    "qda = QDA()\n",
    "qda.fit(ica.fit_transform(X), y)\n",
    "print \"Performance with ICA: {}%\".format(estimate_classifier_performance_transform(qda, RAW_PIXELS_TEST, ica))"
   ]
  }
 ],
 "metadata": {
  "kernelspec": {
   "display_name": "Python 2",
   "language": "python",
   "name": "python2"
  },
  "language_info": {
   "codemirror_mode": {
    "name": "ipython",
    "version": 2
   },
   "file_extension": ".py",
   "mimetype": "text/x-python",
   "name": "python",
   "nbconvert_exporter": "python",
   "pygments_lexer": "ipython2",
   "version": "2.7.12"
  }
 },
 "nbformat": 4,
 "nbformat_minor": 2
}
