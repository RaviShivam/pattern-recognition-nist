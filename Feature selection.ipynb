{
 "cells": [
  {
   "cell_type": "code",
   "execution_count": null,
   "metadata": {},
   "outputs": [],
   "source": [
    "from sklearn.svm import SVC\n",
    "from sklearn.svm import SVR\n",
    "from sklearn.feature_selection import RFE\n",
    "from multiprocessing import Pool\n",
    "import multiprocessing as mp\n",
    "from prutils import *\n",
    "\n",
    "\n",
    "dataset = IM_FEATURES_DATASET\n",
    "train_X, val_X, train_y, val_y = get_full_data(dataset, split_validation=True)\n",
    "\n",
    "# for i in range(1, len(train_X[0]) + 1):\n",
    "def selector_fit(i): \n",
    "    kernel = SVR(kernel='linear')\n",
    "    selector = RFE(kernel, i, 1)\n",
    "    selector.fit(train_X, train_y)\n",
    "    svm = SVC().fit(selector.transform(train_X), train_y)\n",
    "    p = estimate_classifier_performance(svm, selector.transform(val_X), val_y)\n",
    "    return (i, p)\n",
    "   \n",
    "\n",
    "pool = Pool(mp.cpu_count())\n",
    "performance = dict(pool.map(selector_fit, range(1, len(train_X[0]))))\n",
    "pool.close()\n",
    "pool.join()\n",
    "plot_performance(performance, show_results=False, save_to_file=\"feature_selection\")"
   ]
  }
 ],
 "metadata": {
  "kernelspec": {
   "display_name": "Python 2",
   "language": "python",
   "name": "python2"
  },
  "language_info": {
   "codemirror_mode": {
    "name": "ipython",
    "version": 2
   },
   "file_extension": ".py",
   "mimetype": "text/x-python",
   "name": "python",
   "nbconvert_exporter": "python",
   "pygments_lexer": "ipython2",
   "version": "2.7.12"
  }
 },
 "nbformat": 4,
 "nbformat_minor": 2
}
