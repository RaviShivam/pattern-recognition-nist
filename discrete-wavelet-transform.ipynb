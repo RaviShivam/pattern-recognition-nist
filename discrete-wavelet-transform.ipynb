{
 "cells": [
  {
   "cell_type": "code",
   "execution_count": 49,
   "metadata": {
    "collapsed": true
   },
   "outputs": [],
   "source": [
    "import pywt\n",
    "import pr_utils\n",
    "import matplotlib.pyplot as plt\n",
    "\n",
    "(X_train, y_train) = pr_utils.get_train_dataset_100()\n",
    "(X_test, y_test) = pr_utils.get_test_dataset_1000()\n",
    "\n",
    "(cA, cD) = pywt.dwt(X_train[0], 'db2')"
   ]
  },
  {
   "cell_type": "code",
   "execution_count": null,
   "metadata": {},
   "outputs": [],
   "source": [
    "for i in range(1):\n",
    "    elem = i*10+1\n",
    "    (cA, cD) = pywt.dwt(X_train[elem], 'db10')\n",
    "    plt.plot(cA, cD, 'o')\n",
    "    plt.title(y_train[elem])\n",
    "    plt.show()"
   ]
  },
  {
   "cell_type": "code",
   "execution_count": 53,
   "metadata": {},
   "outputs": [
    {
     "name": "stdout",
     "output_type": "stream",
     "text": [
      "(100, 918)\n"
     ]
    }
   ],
   "source": [
    "import numpy as np\n",
    "\n",
    "transformed_X_train = []\n",
    "transformed_X_test = []\n",
    "\n",
    "for i, elem in enumerate(X_train):\n",
    "    (cA, cD) = pywt.dwt(elem, 'db10')\n",
    "    transformed_X_train.append(np.concatenate((cA, cD)))\n",
    "    \n",
    "for i, elem in enumerate(X_test):\n",
    "    (cA, cD) = pywt.dwt(elem, 'db10')\n",
    "    transformed_X_test.append(np.concatenate((cA, cD)))\n",
    "    \n",
    "transformed_X_train = np.array(transformed_X_train)\n",
    "print(transformed_X_train.shape)"
   ]
  },
  {
   "cell_type": "code",
   "execution_count": 58,
   "metadata": {},
   "outputs": [
    {
     "name": "stdout",
     "output_type": "stream",
     "text": [
      "Training set score: 1.000000\nTest set score: 0.773000\n0.773\n"
     ]
    }
   ],
   "source": [
    "from sklearn.neural_network import MLPClassifier\n",
    "from sklearn import metrics\n",
    "\n",
    "mlp = MLPClassifier(hidden_layer_sizes=(330, 85), max_iter=150, alpha=1e-5,\n",
    "                    solver='lbfgs', tol=1e-4, random_state=1, verbose=10,\n",
    "                    learning_rate_init=.1, batch_size=10)\n",
    "fitted = mlp.fit(transformed_X_train, y_train)\n",
    "print(\"Training set score: %f\" % mlp.score(transformed_X_train, y_train))\n",
    "print(\"Test set score: %f\" % mlp.score(transformed_X_test, y_test))\n",
    "\n",
    "\n",
    "predicted_data = mlp.predict(transformed_X_test)\n",
    "acc = metrics.accuracy_score(y_test, predicted_data)\n",
    "print(acc)"
   ]
  },
  {
   "cell_type": "markdown",
   "metadata": {},
   "source": [
    "DWT result with NN"
   ]
  }
 ],
 "metadata": {
  "kernelspec": {
   "display_name": "Python 2",
   "language": "python",
   "name": "python2"
  },
  "language_info": {
   "codemirror_mode": {
    "name": "ipython",
    "version": 2.0
   },
   "file_extension": ".py",
   "mimetype": "text/x-python",
   "name": "python",
   "nbconvert_exporter": "python",
   "pygments_lexer": "ipython2",
   "version": "2.7.6"
  }
 },
 "nbformat": 4,
 "nbformat_minor": 0
}