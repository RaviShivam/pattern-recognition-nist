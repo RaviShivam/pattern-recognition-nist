{
 "cells": [
  {
   "cell_type": "markdown",
   "metadata": {},
   "source": [
    "# Full data experiments"
   ]
  },
  {
   "cell_type": "code",
   "execution_count": 6,
   "metadata": {},
   "outputs": [
    {
     "name": "stdout",
     "output_type": "stream",
     "text": [
      "47.45\n"
     ]
    }
   ],
   "source": [
    "from prutils import *\n",
    "from sklearn.discriminant_analysis import QuadraticDiscriminantAnalysis as QDA \n",
    "\n",
    "\n",
    "\"\"\"\n",
    "Results without processing\n",
    "\"\"\"\n",
    "data = get_full_data(RAW_PIXELS_DATASET)\n",
    "qda = QDA().fit(data[0], data[2])\n",
    "estimate_classifier_performance(qda, data[1], data[3])\n",
    "\n",
    "\"\"\"\n",
    "Results with PCA\n",
    "\"\"\""
   ]
  },
  {
   "cell_type": "markdown",
   "metadata": {},
   "source": [
    "# Batched data experiments"
   ]
  },
  {
   "cell_type": "code",
   "execution_count": null,
   "metadata": {},
   "outputs": [],
   "source": [
    "from prutils import *\n",
    "from sklearn.discriminant_analysis import QuadraticDiscriminantAnalysis as QDA \n",
    "\n",
    "\n",
    "\"\"\"\n",
    "Results without processing\n",
    "\"\"\"\n",
    "data = get_full_data(RAW_PIXELS_DATASET)\n",
    "qda = QDA().fit(data[0], data[2])\n",
    "estimate_classifier_performance(qda, data[1], data[3])\n",
    "\n",
    "\"\"\"\n",
    "Results with PCA\n",
    "\"\"\""
   ]
  },
  {
   "cell_type": "markdown",
   "metadata": {},
   "source": [
    "### PCA experiments"
   ]
  },
  {
   "cell_type": "code",
   "execution_count": null,
   "metadata": {},
   "outputs": [
    {
     "data": {
      "image/png": "[encoded data removed]",
      "text/plain": [
       "<matplotlib.figure.Figure at 0x7f2e56866cd0>"
      ]
     },
     "metadata": {},
     "output_type": "display_data"
    }
   ],
   "source": [
    "from prutils import *\n",
    "from sklearn.discriminant_analysis import QuadraticDiscriminantAnalysis as QDA \n",
    "\n",
    "pca_full = run_PCA_experiment(QDA(), RAW_PIXELS_DATASET, max_components = 100, batch=False, show_results=True)\n",
    "pca_batch = run_PCA_experiment(QDA(), RAW_PIXELS_DATASET, max_components = 100, batch=True, show_results=True)"
   ]
  },
  {
   "cell_type": "markdown",
   "metadata": {},
   "source": [
    "### ICA experiments"
   ]
  },
  {
   "cell_type": "code",
   "execution_count": null,
   "metadata": {},
   "outputs": [
    {
     "name": "stderr",
     "output_type": "stream",
     "text": [
      "/home/shivam/prenv/local/lib/python2.7/site-packages/sklearn/decomposition/fastica_.py:118: UserWarning: FastICA did not converge. Consider increasing tolerance or the maximum number of iterations.\n",
      "  warnings.warn('FastICA did not converge. Consider increasing '\n",
      "/home/shivam/prenv/local/lib/python2.7/site-packages/sklearn/decomposition/fastica_.py:118: UserWarning: FastICA did not converge. Consider increasing tolerance or the maximum number of iterations.\n",
      "  warnings.warn('FastICA did not converge. Consider increasing '\n",
      "/home/shivam/prenv/local/lib/python2.7/site-packages/sklearn/decomposition/fastica_.py:118: UserWarning: FastICA did not converge. Consider increasing tolerance or the maximum number of iterations.\n",
      "  warnings.warn('FastICA did not converge. Consider increasing '\n",
      "/home/shivam/prenv/local/lib/python2.7/site-packages/sklearn/decomposition/fastica_.py:118: UserWarning: FastICA did not converge. Consider increasing tolerance or the maximum number of iterations.\n",
      "  warnings.warn('FastICA did not converge. Consider increasing '\n",
      "/home/shivam/prenv/local/lib/python2.7/site-packages/sklearn/decomposition/fastica_.py:118: UserWarning: FastICA did not converge. Consider increasing tolerance or the maximum number of iterations.\n",
      "  warnings.warn('FastICA did not converge. Consider increasing '\n",
      "/home/shivam/prenv/local/lib/python2.7/site-packages/sklearn/decomposition/fastica_.py:118: UserWarning: FastICA did not converge. Consider increasing tolerance or the maximum number of iterations.\n",
      "  warnings.warn('FastICA did not converge. Consider increasing '\n",
      "/home/shivam/prenv/local/lib/python2.7/site-packages/sklearn/decomposition/fastica_.py:118: UserWarning: FastICA did not converge. Consider increasing tolerance or the maximum number of iterations.\n",
      "  warnings.warn('FastICA did not converge. Consider increasing '\n",
      "/home/shivam/prenv/local/lib/python2.7/site-packages/sklearn/decomposition/fastica_.py:118: UserWarning: FastICA did not converge. Consider increasing tolerance or the maximum number of iterations.\n",
      "  warnings.warn('FastICA did not converge. Consider increasing '\n"
     ]
    }
   ],
   "source": [
    "from prutils import *\n",
    "from sklearn.discriminant_analysis import QuadraticDiscriminantAnalysis as QDA \n",
    "\n",
    "ica_full = run_ICA_experiment(QDA(), RAW_PIXELS_DATASET, max_components = 100, batch=False, show_results=True)\n",
    "ica_batch = run_ICA_experiment(QDA(), RAW_PIXELS_DATASET, max_components = 100, batch=True, show_results=True)"
   ]
  },
  {
   "cell_type": "markdown",
   "metadata": {},
   "source": [
    "### Kernel PCA experiments"
   ]
  },
  {
   "cell_type": "code",
   "execution_count": null,
   "metadata": {},
   "outputs": [],
   "source": [
    "from prutils import *\n",
    "from sklearn.discriminant_analysis import QuadraticDiscriminantAnalysis as QDA \n",
    "\n",
    "kpca_full = run_KPCA_experiment(QDA(), RAW_PIXELS_DATASET, max_components = 100, batch=False, show_results=True)\n",
    "kpca_batch = run_KPCA_experiment(QDA(), RAW_PIXELS_DATASET, max_components = 100, batch=True, show_results=True)"
   ]
  },
  {
   "cell_type": "code",
   "execution_count": null,
   "metadata": {},
   "outputs": [],
   "source": []
  }
 ],
 "metadata": {
  "kernelspec": {
   "display_name": "Python 2",
   "language": "python",
   "name": "python2"
  },
  "language_info": {
   "codemirror_mode": {
    "name": "ipython",
    "version": 2
   },
   "file_extension": ".py",
   "mimetype": "text/x-python",
   "name": "python",
   "nbconvert_exporter": "python",
   "pygments_lexer": "ipython2",
   "version": "2.7.12"
  }
 },
 "nbformat": 4,
 "nbformat_minor": 2
}
