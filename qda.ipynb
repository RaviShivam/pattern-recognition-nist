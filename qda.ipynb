{
 "cells": [
  {
   "cell_type": "markdown",
   "metadata": {},
   "source": [
    "# Full data experiments"
   ]
  },
  {
   "cell_type": "code",
   "execution_count": 9,
   "metadata": {},
   "outputs": [
    {
     "name": "stdout",
     "output_type": "stream",
     "text": [
      "data/preprocessed_test_nist_data.csv - feature reduction: 77.6%\n",
      "data/preprocessed_test_nist_data.csv - PCA: 96.4%\n",
      "data/preprocessed_test_nist_data.csv - ICA: 92.9%\n",
      "data/preprocessed_test_nist_data.csv - KPCA: 92.9%\n"
     ]
    }
   ],
   "source": [
    "from prutils import *\n",
    "from sklearn.decomposition import PCA\n",
    "from sklearn.decomposition import FastICA\n",
    "from sklearn.decomposition import KernelPCA\n",
    "from sklearn.discriminant_analysis import QuadraticDiscriminantAnalysis as QDA \n",
    "import warnings\n",
    "warnings.filterwarnings(\"ignore\", category=UserWarning)\n",
    "\n",
    "# train_datasets = [RAW_PIXELS_DATASET, IM_FEATURES_DATASET]\n",
    "# test_datasets = [RAW_PIXELS_TEST, IM_FEATURES_TEST]\n",
    "# pca_n = [30, 15]\n",
    "# ica_n = [23, 12]\n",
    "# kpca_n = [25]\n",
    "\n",
    "train_datasets = [RAW_PIXELS_DATASET]\n",
    "test_datasets = [RAW_PIXELS_TEST]\n",
    "pca_n = [30]\n",
    "ica_n = [10]\n",
    "kpca_n = [10]\n",
    "\n",
    "for i in range(len(train_datasets)):\n",
    "    train_X, train_y = get_full_data(train_datasets[i], split_validation=False)\n",
    "\n",
    "    \"\"\"\n",
    "    Results without processing\n",
    "    \"\"\"\n",
    "    qda = QDA().fit(train_X, train_y)\n",
    "    performance = estimate_classifier_performance_normal(qda, test_datasets[i])\n",
    "    print \"{} - feature reduction: {}%\".format(test_datasets[i], performance)\n",
    "\n",
    "    \"\"\"\n",
    "    Results with PCA\n",
    "    \"\"\"\n",
    "    pca = PCA(n_components=pca_n[i])\n",
    "    qda = QDA().fit(pca.fit_transform(train_X), train_y)\n",
    "    performance = estimate_classifier_performance_transform(qda, test_datasets[i], pca)\n",
    "    print \"{} - PCA: {}%\".format(test_datasets[i], performance)\n",
    "\n",
    "    \"\"\"\n",
    "    Results with ICA\n",
    "    \"\"\"\n",
    "    ica = FastICA(n_components=ica_n[i])\n",
    "    qda = QDA().fit(ica.fit_transform(train_X), train_y)\n",
    "    performance = estimate_classifier_performance_transform(qda, test_datasets[i], ica)\n",
    "    print \"{} - ICA: {}%\".format(test_datasets[i], performance)\n",
    "    \n",
    "    \"\"\"\n",
    "    Results with KPCA\n",
    "    \"\"\"\n",
    "    kpca = KernelPCA(n_components=kpca_n[i])\n",
    "    qda = QDA().fit(kpca.fit_transform(train_X), train_y)\n",
    "    performance = estimate_classifier_performance_transform(qda, test_datasets[i], kpca)\n",
    "    print \"{} - KPCA: {}%\".format(test_datasets[i], performance)"
   ]
  },
  {
   "cell_type": "markdown",
   "metadata": {},
   "source": [
    "# Batched data experiments"
   ]
  },
  {
   "cell_type": "code",
   "execution_count": 8,
   "metadata": {},
   "outputs": [
    {
     "name": "stdout",
     "output_type": "stream",
     "text": [
      "data/preprocessed_test_nist_data.csv - feature reduction: 12.294%\n",
      "data/preprocessed_test_nist_data.csv - PCA: 61.236%\n",
      "data/preprocessed_test_nist_data.csv - ICA: 20.648%\n",
      "data/preprocessed_test_nist_data.csv - KPCA: 29.408%\n"
     ]
    }
   ],
   "source": [
    "from prutils import *\n",
    "from sklearn.decomposition import PCA\n",
    "from sklearn.decomposition import FastICA\n",
    "from sklearn.decomposition import KernelPCA\n",
    "from sklearn.discriminant_analysis import QuadraticDiscriminantAnalysis as QDA \n",
    "import warnings\n",
    "warnings.filterwarnings(\"ignore\", category=UserWarning)\n",
    "\n",
    "# train_datasets = [RAW_PIXELS_DATASET, IM_FEATURES_DATASET]\n",
    "# test_datasets = [RAW_PIXELS_TEST, IM_FEATURES_TEST]\n",
    "# pca_n = [5, 8]\n",
    "# ica_n = [5, 8]\n",
    "# kpca_n = [10]\n",
    "\n",
    "train_datasets = [RAW_PIXELS_DATASET]\n",
    "test_datasets = [RAW_PIXELS_TEST]\n",
    "pca_n = [5]\n",
    "ica_n = [10]\n",
    "kpca_n = [10]\n",
    "\n",
    "runs = 50\n",
    "\n",
    "for i in range(len(train_datasets)):\n",
    "    normal_performance = 0\n",
    "    pca_performance = 0\n",
    "    ica_performance = 0\n",
    "    kpca_performance = 0\n",
    "    \n",
    "    for _ in range(runs):\n",
    "        train_X, train_y = get_random_batch(train_datasets[i], split_validation=False)\n",
    "\n",
    "        \"\"\"\n",
    "        Results without processing\n",
    "        \"\"\"\n",
    "        qda = QDA().fit(train_X, train_y)\n",
    "        normal_performance += estimate_classifier_performance_normal(qda, test_datasets[i])\n",
    "\n",
    "        \"\"\"\n",
    "        Results with PCA\n",
    "        \"\"\"\n",
    "        pca = PCA(n_components=pca_n[i])\n",
    "        qda = QDA().fit(pca.fit_transform(train_X), train_y)\n",
    "        pca_performance += estimate_classifier_performance_transform(qda, test_datasets[i], pca)\n",
    "\n",
    "        \"\"\"\n",
    "        Results with ICA\n",
    "        \"\"\"\n",
    "        ica = FastICA(n_components=ica_n[i])\n",
    "        qda = QDA().fit(ica.fit_transform(train_X), train_y)\n",
    "        ica_performance += estimate_classifier_performance_transform(qda, test_datasets[i], ica)\n",
    "\n",
    "        \"\"\"\n",
    "        Results with KPCA\n",
    "        \"\"\"\n",
    "        kpca = KernelPCA(n_components=kpca_n[i])\n",
    "        qda = QDA().fit(kpca.fit_transform(train_X), train_y)\n",
    "        kpca_performance += estimate_classifier_performance_transform(qda, test_datasets[i], kpca)\n",
    "        \n",
    "    print \"{} - feature reduction: {}%\".format(test_datasets[i], normal_performance/float(runs))\n",
    "    print \"{} - PCA: {}%\".format(test_datasets[i], pca_performance/float(runs))\n",
    "    print \"{} - ICA: {}%\".format(test_datasets[i], ica_performance/float(runs))\n",
    "    print \"{} - KPCA: {}%\".format(test_datasets[i], kpca_performance/float(runs))"
   ]
  },
  {
   "cell_type": "markdown",
   "metadata": {},
   "source": [
    "### PCA experiments"
   ]
  },
  {
   "cell_type": "code",
   "execution_count": 2,
   "metadata": {
    "scrolled": true
   },
   "outputs": [],
   "source": [
    "from prutils import *\n",
    "from sklearn.discriminant_analysis import QuadraticDiscriminantAnalysis as QDA \n",
    "import warnings\n",
    "warnings.filterwarnings(\"ignore\", category=UserWarning)\n",
    "warnings.filterwarnings(\"ignore\", category=RuntimeWarning)\n",
    "\n",
    "pca_full_raw = run_PCA_experiment(QDA(), RAW_PIXELS_DATASET, max_components = 50, batch=False)\n",
    "pca_batch_raw = run_PCA_experiment(QDA(), RAW_PIXELS_DATASET, max_components = 50, batch=True)\n",
    "\n",
    "pca_full_features = run_PCA_experiment(QDA(), IM_FEATURES_DATASET, max_components = 50, batch=False)\n",
    "pca_batch_features = run_PCA_experiment(QDA(), IM_FEATURES_DATASET, max_components = 50, batch=True)\n",
    "\n",
    "plot_performance([pca_full_raw, pca_batch_raw, pca_full_features, pca_batch_features], show_results=False, save_to_file=\"qda_pca\")"
   ]
  },
  {
   "cell_type": "markdown",
   "metadata": {},
   "source": [
    "### ICA experiments"
   ]
  },
  {
   "cell_type": "code",
   "execution_count": null,
   "metadata": {},
   "outputs": [],
   "source": [
    "from prutils import *\n",
    "from sklearn.discriminant_analysis import QuadraticDiscriminantAnalysis as QDA \n",
    "import warnings\n",
    "warnings.filterwarnings(\"ignore\", category=UserWarning)\n",
    "\n",
    "ica_full_raw = run_ICA_experiment(QDA(), RAW_PIXELS_DATASET,\n",
    "                                  max_components = 50, batch=False)\n",
    "ica_batch_raw = run_ICA_experiment(QDA(), RAW_PIXELS_DATASET,\n",
    "                                   max_components = 50, batch=True)\n",
    "\n",
    "ica_full_features = run_ICA_experiment(QDA(), IM_FEATURES_DATASET,\n",
    "                                       max_components = 50, batch=False)\n",
    "ica_batch_features = run_ICA_experiment(QDA(), IM_FEATURES_DATASET,\n",
    "                                        max_components = 50, batch=True)\n",
    "\n",
    "plot_performance([ica_full_raw, ica_batch_raw, ica_full_features, ica_batch_features],\n",
    "                 show_results=False, save_to_file=\"qda_ica\")"
   ]
  },
  {
   "cell_type": "markdown",
   "metadata": {},
   "source": [
    "### Kernel PCA experiments"
   ]
  },
  {
   "cell_type": "code",
   "execution_count": null,
   "metadata": {},
   "outputs": [
    {
     "name": "stderr",
     "output_type": "stream",
     "text": [
      " 84%|████████▎ | 41/49 [47:29<09:15, 69.49s/it]"
     ]
    }
   ],
   "source": [
    "from prutils import *\n",
    "from sklearn.discriminant_analysis import QuadraticDiscriminantAnalysis as QDA \n",
    "import warnings\n",
    "warnings.filterwarnings(\"ignore\", category=UserWarning)\n",
    "\n",
    "kpca_full_raw = run_KPCA_experiment(QDA(), RAW_PIXELS_DATASET, max_components = 50)\n",
    "kpca_batch_raw = run_KPCA_experiment(QDA(), RAW_PIXELS_DATASET, max_components = 50)\n",
    "\n",
    "kpca_full_features = run_KPCA_experiment(QDA(), IM_FEATURES_DATASET, max_components = 50)\n",
    "kpca_batch_features = run_KPCA_experiment(QDA(), IM_FEATURES_DATASET, max_components = 50)\n",
    "\n",
    "plot_performance([kpca_full_raw, kpca_batch_raw, kpca_full_features, kpca_batch_features],\n",
    "                 show_results=False, save_to_file=\"qda_kpca\")"
   ]
  }
 ],
 "metadata": {
  "kernelspec": {
   "display_name": "Python 2",
   "language": "python",
   "name": "python2"
  },
  "language_info": {
   "codemirror_mode": {
    "name": "ipython",
    "version": 2
   },
   "file_extension": ".py",
   "mimetype": "text/x-python",
   "name": "python",
   "nbconvert_exporter": "python",
   "pygments_lexer": "ipython2",
   "version": "2.7.12"
  }
 },
 "nbformat": 4,
 "nbformat_minor": 2
}
