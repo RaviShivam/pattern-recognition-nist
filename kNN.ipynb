{
 "cells": [
  {
   "cell_type": "code",
   "execution_count": 1,
   "metadata": {
    "collapsed": true
   },
   "outputs": [],
   "source": [
    "import numpy as np \n",
    "import sklearn as sk \n",
    "from sklearn.model_selection import train_test_split\n",
    "from sklearn.neighbors import NearestNeighbors\n",
    "from numpy import genfromtxt\n",
    "from sklearn.metrics import accuracy_score\n",
    "\n",
    "from sklearn.neighbors import KNeighborsClassifier\n",
    "\n",
    "def readData(filename, size):\n",
    "    my_data = genfromtxt(filename, delimiter=',')\n",
    "    dim = my_data.shape[1]\n",
    "    X, Y = my_data[:, 1:901], my_data[:, 0]\n",
    "    X_train, X_test, y_train, y_test = train_test_split(X, Y, train_size=size, random_state=0)\n",
    "    return X_train, X_test, y_train, y_test, dim    "
   ]
  },
  {
   "cell_type": "code",
   "execution_count": 2,
   "metadata": {},
   "outputs": [
    {
     "name": "stdout",
     "output_type": "stream",
     "text": [
      "96.0\n",
      "96.0\n",
      "96.05\n"
     ]
    }
   ],
   "source": [
    "X_train, X_test, y_train, y_test, dim = readData('data/processed_nist_data.csv', 0.8)\n",
    "for algorithm in [\"ball_tree\", \"kd_tree\", \"brute\"]:\n",
    "    neigh = KNeighborsClassifier(n_neighbors=3, algorithm=algorithm)\n",
    "    neigh.fit(X_train, y_train) \n",
    "    y_pred = neigh.predict(X_test)\n",
    "    # Accuracy\n",
    "    print(accuracy_score(y_test, y_pred, normalize=True, sample_weight=None)*100)"
   ]
  },
  {
   "cell_type": "code",
   "execution_count": null,
   "metadata": {},
   "outputs": [],
   "source": [
    "# Results:\n",
    "# ball tree 96.0%\n",
    "# kd tree 96.0%\n",
    "# brute 96.05%"
   ]
  },
  {
   "cell_type": "code",
   "execution_count": null,
   "metadata": {
    "collapsed": true
   },
   "outputs": [],
   "source": []
  }
 ],
 "metadata": {
  "kernelspec": {
   "display_name": "Python 3",
   "language": "python",
   "name": "python3"
  },
  "language_info": {
   "codemirror_mode": {
    "name": "ipython",
    "version": 3
   },
   "file_extension": ".py",
   "mimetype": "text/x-python",
   "name": "python",
   "nbconvert_exporter": "python",
   "pygments_lexer": "ipython3",
   "version": "3.6.1"
  }
 },
 "nbformat": 4,
 "nbformat_minor": 2
}
