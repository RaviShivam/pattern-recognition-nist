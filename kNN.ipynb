{
 "cells": [
  {
   "cell_type": "code",
   "execution_count": 1,
   "metadata": {},
   "outputs": [],
   "source": [
    "def readData(filename, size):\n",
    "    my_data = genfromtxt(filename, delimiter=',')\n",
    "    dim = my_data.shape[1]\n",
    "    X, Y = my_data[:, 1:901], my_data[:, 0]\n",
    "    X_train, X_test, y_train, y_test = train_test_split(X, Y, train_size=size, random_state=0)\n",
    "    return X_train, X_test, y_train, y_test, dim    "
   ]
  },
  {
   "cell_type": "code",
   "execution_count": 2,
   "metadata": {},
   "outputs": [],
   "source": [
    "import math\n",
    "\n",
    "def euclideanDistance(instance1, instance2, dim):\n",
    "    distance = 0\n",
    "    for x in range(dim-1):\n",
    "        distance += pow(instance1[x] + instance2[x], 2)\n",
    "    distance = math.sqrt(distance)\n",
    "    return distance "
   ]
  },
  {
   "cell_type": "code",
   "execution_count": 3,
   "metadata": {},
   "outputs": [],
   "source": [
    "import operator\n",
    "\n",
    "def getNeighbors(X_train, y_train, X_testInstance, k, dim):\n",
    "    distances = []\n",
    "    for x in range(len(X_train)):\n",
    "        distance = euclideanDistance(X_testInstance, X_train[x], dim)\n",
    "        distances.append((y_train[x], distance))\n",
    "    distances.sort(key=operator.itemgetter(1))\n",
    "    neighbors = []\n",
    "    for x in range(k):\n",
    "        neighbors.append(distances[x][0])\n",
    "    return neighbors"
   ]
  },
  {
   "cell_type": "code",
   "execution_count": null,
   "metadata": {},
   "outputs": [],
   "source": [
    "import operator\n",
    "\n",
    "def getNearestNeighbor(neighbors):\n",
    "    occurrence = {}\n",
    "    for x in range(len(neighbors)):\n",
    "        if neighbors[x] in occurrence:\n",
    "            occurrence[neighbors[int(x)]] += 1;\n",
    "        else:\n",
    "            occurrence[neighbors[int(x)]] = 1;\n",
    "    sorted_occurrence = sorted(occurrence.items(), key=operator.itemgetter(0), reverse=True)\n",
    "    return sorted_occurrence[0]"
   ]
  },
  {
   "cell_type": "code",
   "execution_count": null,
   "metadata": {},
   "outputs": [],
   "source": [
    "import numpy as np\n",
    "from sklearn.model_selection import train_test_split\n",
    "from numpy import genfromtxt\n",
    "\n",
    "# Our dataset and targets\n",
    "X_train, X_test, y_train, y_test, dim = readData('data/processed_nist_data.csv', 0.8)\n",
    "\n",
    "correct = 0\n",
    "for x in range(len(X_test)):\n",
    "    neighbors = getNeighbors(X_train, y_train, X_test[x], 5, dim)\n",
    "    nearestNeighbor = getNearestNeighbor(neighbors)[0]\n",
    "    if nearestNeighbor == y_test[x]:\n",
    "        correct += 1\n",
    "\n",
    "print(correct/(X_train.shape[0]+X_test.shape[0])*100)\n",
    "    \n"
   ]
  },
  {
   "cell_type": "code",
   "execution_count": null,
   "metadata": {},
   "outputs": [],
   "source": [
    "\n",
    "\n",
    "\n"
   ]
  }
 ],
 "metadata": {
  "kernelspec": {
   "display_name": "Python 3",
   "language": "python",
   "name": "python3"
  },
  "language_info": {
   "codemirror_mode": {
    "name": "ipython",
    "version": 3
   },
   "file_extension": ".py",
   "mimetype": "text/x-python",
   "name": "python",
   "nbconvert_exporter": "python",
   "pygments_lexer": "ipython3",
   "version": "3.6.1"
  }
 },
 "nbformat": 4,
 "nbformat_minor": 2
}
