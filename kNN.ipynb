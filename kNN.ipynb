{
 "cells": [
  {
   "cell_type": "code",
   "execution_count": 1,
   "metadata": {},
   "outputs": [],
   "source": [
    "import numpy as np \n",
    "import sklearn as sk \n",
    "from sklearn.model_selection import train_test_split\n",
    "from sklearn.neighbors import NearestNeighbors\n",
    "from numpy import genfromtxt\n",
    "from sklearn.metrics import accuracy_score\n",
    "from sklearn.neighbors import KNeighborsClassifier\n",
    "from sklearn.feature_selection import VarianceThreshold\n",
    "from sklearn.decomposition import PCA, KernelPCA\n",
    "from skimage.feature import hog\n",
    "\n",
    "def readData(filename, size):\n",
    "    my_data = genfromtxt(filename, delimiter=',')\n",
    "    dim = my_data.shape[1]\n",
    "    X, Y = my_data[:, 1:901], my_data[:, 0]\n",
    "    \n",
    "    # Feature selection: remove features with low variance (Boolean variables --> Bernoulli variables)\n",
    "    sel = VarianceThreshold(threshold=(.8 * (1 - .8)))\n",
    "    X = sel.fit_transform(X)\n",
    "    \n",
    "    # Feature extraction \n",
    "    # PCA\n",
    "    #pca = PCA(n_components=X.shape[1])\n",
    "    #pca.fit(X)\n",
    "\n",
    "    # Kernel PCA\n",
    "    kpca = KernelPCA(n_components=X.shape[1])\n",
    "    kpca.fit(X)\n",
    "    \n",
    "    X_train, X_test, y_train, y_test = train_test_split(X, Y, train_size=size, random_state=0)\n",
    "    return X_train, X_test, y_train, y_test, dim    "
   ]
  },
  {
   "cell_type": "code",
   "execution_count": 2,
   "metadata": {},
   "outputs": [
    {
     "name": "stdout",
     "output_type": "stream",
     "text": [
      "96.05\n",
      "96.0\n",
      "96.1\n"
     ]
    }
   ],
   "source": [
    "X_train, X_test, y_train, y_test, dim = readData('data/processed_nist_data.csv', 0.8)\n",
    "for algorithm in [\"ball_tree\", \"kd_tree\", \"brute\"]:\n",
    "    neigh = KNeighborsClassifier(n_neighbors=3, algorithm=algorithm)\n",
    "    neigh.fit(X_train, y_train) \n",
    "    y_pred = neigh.predict(X_test)\n",
    "    # Accuracy\n",
    "    print(accuracy_score(y_test, y_pred, normalize=True, sample_weight=None)*100)"
   ]
  },
  {
   "cell_type": "code",
   "execution_count": 3,
   "metadata": {
    "collapsed": true
   },
   "outputs": [],
   "source": [
    "# Results\n",
    "# raw pixels: ball tree 96.0%, kd tree 96.0%, brute 96.05%\n",
    "# feature selection: ball tree 96.05%, kd tree 96.0%, brute 96.1%"
   ]
  },
  {
   "cell_type": "code",
   "execution_count": 5,
   "metadata": {},
   "outputs": [
    {
     "data": {
      "text/plain": [
       "(8000, 545)"
      ]
     },
     "execution_count": 5,
     "metadata": {},
     "output_type": "execute_result"
    }
   ],
   "source": [
    "X_train.shape\n"
   ]
  }
 ],
 "metadata": {
  "kernelspec": {
   "display_name": "Python 3",
   "language": "python",
   "name": "python3"
  },
  "language_info": {
   "codemirror_mode": {
    "name": "ipython",
    "version": 3
   },
   "file_extension": ".py",
   "mimetype": "text/x-python",
   "name": "python",
   "nbconvert_exporter": "python",
   "pygments_lexer": "ipython3",
   "version": "3.6.1"
  }
 },
 "nbformat": 4,
 "nbformat_minor": 2
}
