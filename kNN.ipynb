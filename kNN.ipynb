{
 "cells": [
  {
   "cell_type": "code",
   "execution_count": 1,
   "metadata": {
    "collapsed": true
   },
   "outputs": [],
   "source": [
    "import numpy as np \n",
    "import sklearn as sk \n",
    "import pandas as pd\n",
    "import matplotlib.pyplot as plt\n",
    "from sklearn.model_selection import train_test_split\n",
    "from sklearn.neighbors import NearestNeighbors\n",
    "from numpy import genfromtxt\n",
    "from sklearn.metrics import accuracy_score\n",
    "from sklearn.neighbors import KNeighborsClassifier\n",
    "from sklearn.feature_selection import VarianceThreshold\n",
    "from sklearn.decomposition import PCA, KernelPCA, FastICA\n",
    "from skimage.feature import hog\n",
    "from matplotlib.backends.backend_pdf import PdfPages\n",
    "from sklearn import model_selection"
   ]
  },
  {
   "cell_type": "code",
   "execution_count": 2,
   "metadata": {
    "collapsed": true
   },
   "outputs": [],
   "source": [
    "RAW_PIXELS_DATASET = \"data/processed_nist_data.csv\"\n",
    "IM_FEATURES_DATASET = \"data/im_features_nist_data.csv\""
   ]
  },
  {
   "cell_type": "code",
   "execution_count": null,
   "metadata": {},
   "outputs": [],
   "source": [
    "## Our dataset and targets\n",
    "#my_data = genfromtxt(IM_FEATURES_DATASET, delimiter=',')\n",
    "##my_data.shape\n",
    "#X = my_data[1:10000, 1:901]\n",
    "#Y = my_data[1:10000, 0]\n",
    "#\n",
    "## Feature selection: remove features with low variance (Boolean variables --> Bernoulli variables)\n",
    "#sel = VarianceThreshold(threshold=(.8 * (1 - .8)))\n",
    "#X = sel.fit_transform(X)"
   ]
  },
  {
   "cell_type": "markdown",
   "metadata": {},
   "source": [
    "## Extract batch dataset"
   ]
  },
  {
   "cell_type": "code",
   "execution_count": 3,
   "metadata": {},
   "outputs": [],
   "source": [
    "dataframe = pd.read_csv(IM_FEATURES_DATASET)\n",
    "dataframe = dataframe.groupby(\"label\")\n",
    "my_data = dataframe.apply(lambda x: x.sample(frac=0.01)).as_matrix()\n",
    "\n",
    "X = my_data[0:my_data.shape[0], 1:my_data.shape[1]]\n",
    "Y = my_data[0:my_data.shape[0], 0]\n",
    "\n",
    "# Feature selection: remove features with low variance (Boolean variables --> Bernoulli variables)\n",
    "sel = VarianceThreshold(threshold=(.8 * (1 - .8)))\n",
    "X = sel.fit_transform(X)"
   ]
  },
  {
   "cell_type": "code",
   "execution_count": 4,
   "metadata": {},
   "outputs": [
    {
     "name": "stdout",
     "output_type": "stream",
     "text": [
      "[ 0.25        0.26666667  0.3       ]\n",
      "27.2222222222\n"
     ]
    },
    {
     "ename": "NameError",
     "evalue": "name 'rbf_results' is not defined",
     "output_type": "error",
     "traceback": [
      "\u001b[1;31m---------------------------------------------------------------------------\u001b[0m",
      "\u001b[1;31mNameError\u001b[0m                                 Traceback (most recent call last)",
      "\u001b[1;32m<ipython-input-4-be7e7f2f60cb>\u001b[0m in \u001b[0;36m<module>\u001b[1;34m()\u001b[0m\n\u001b[0;32m     13\u001b[0m \u001b[0maccuracy\u001b[0m \u001b[1;33m=\u001b[0m \u001b[0mnp\u001b[0m\u001b[1;33m.\u001b[0m\u001b[0mmean\u001b[0m\u001b[1;33m(\u001b[0m\u001b[0mscores\u001b[0m\u001b[1;33m)\u001b[0m\u001b[1;33m*\u001b[0m\u001b[1;36m100\u001b[0m\u001b[1;33m\u001b[0m\u001b[0m\n\u001b[0;32m     14\u001b[0m \u001b[0mprint\u001b[0m\u001b[1;33m(\u001b[0m\u001b[0maccuracy\u001b[0m\u001b[1;33m)\u001b[0m\u001b[1;33m\u001b[0m\u001b[0m\n\u001b[1;32m---> 15\u001b[1;33m \u001b[0mrbf_results\u001b[0m\u001b[1;33m[\u001b[0m\u001b[0mnum_components\u001b[0m\u001b[1;33m]\u001b[0m \u001b[1;33m=\u001b[0m \u001b[0maccuracy\u001b[0m\u001b[1;33m\u001b[0m\u001b[0m\n\u001b[0m",
      "\u001b[1;31mNameError\u001b[0m: name 'rbf_results' is not defined"
     ]
    }
   ],
   "source": [
    "#X_train, X_test, y_train, y_test = train_test_split(X_new, Y, train_size=0.8, random_state=0)\n",
    "\n",
    "algorithm = 'brute'\n",
    "neigh = KNeighborsClassifier(n_neighbors=3, algorithm=algorithm)\n",
    "#neigh.fit(X_train, y_train) \n",
    "#y_pred = neigh.predict(X_test)\n",
    "## Accuracy\n",
    "#accuracy = accuracy_score(y_test, y_pred, normalize=True, sample_weight=None)*100\n",
    "#print(accuracy)\n",
    "    \n",
    "scores = model_selection.cross_val_score(neigh, X, Y)\n",
    "print(scores)\n",
    "accuracy = np.mean(scores)*100\n",
    "print(accuracy)\n",
    "rbf_results[num_components] = accuracy"
   ]
  },
  {
   "cell_type": "code",
   "execution_count": null,
   "metadata": {
    "collapsed": true
   },
   "outputs": [],
   "source": [
    "rbf_results = {}"
   ]
  },
  {
   "cell_type": "code",
   "execution_count": null,
   "metadata": {},
   "outputs": [],
   "source": [
    "## Feature extraction \n",
    "#\n",
    "#for num_components in range(1, X.shape[1], 1):\n",
    "#    \n",
    "#    #if num_components > X.shape[1]:\n",
    "#    #    num_components = X.shape[1]\n",
    "#    # PCA\n",
    "#    #pca = PCA(n_components=num_components, svd_solver='auto')\n",
    "#    #X_new = pca.fit_transform(X)\n",
    "#    \n",
    "#    # Kernel PCA\n",
    "#    #kpca = KernelPCA(n_components=num_components)\n",
    "#    #X_new = kpca.fit_transform(X)\n",
    "#    \n",
    "#    # ICA \n",
    "#    ica = FastICA(n_components=num_components, max_iter=1000)\n",
    "#    X_new = ica.fit_transform(X, Y)\n",
    "#    \n",
    "#    print(X_new.shape)\n",
    "#    \n",
    "#    X_train, X_test, y_train, y_test = train_test_split(X_new, Y, train_size=0.8, random_state=0)\n",
    "#    X_train = np.round(X_train, 2)\n",
    "#    \n",
    "#    #for algorithm in [\"ball_tree\", \"kd_tree\", \"brute\"]:\n",
    "#    algorithm = 'brute'\n",
    "#    neigh = KNeighborsClassifier(n_neighbors=3, algorithm=algorithm)\n",
    "#    #neigh.fit(X_train, y_train) \n",
    "#    #y_pred = neigh.predict(X_test)\n",
    "#    \n",
    "#    # Accuracy\n",
    "#    #accuracy = accuracy_score(y_test, y_pred, normalize=True, sample_weight=None)*100\n",
    "#    #print(accuracy)\n",
    "#    #rbf_results[num_components] = accuracy\n",
    "#    \n",
    "#    scores = model_selection.cross_val_score(neigh, X_new, Y)\n",
    "#    print(scores)\n",
    "#    accuracy = np.mean(scores)*100\n",
    "#    print(accuracy)\n",
    "#    rbf_results[num_components] = accuracy"
   ]
  },
  {
   "cell_type": "code",
   "execution_count": null,
   "metadata": {},
   "outputs": [],
   "source": [
    "save_to_file = 'BatchDataset_MIR_kNN_ICA'\n",
    "\n",
    "#print(rbf_results.keys())\n",
    "#print(rbf_results.values())\n",
    "\n",
    "pp = PdfPages(\"experiment-results/\" + save_to_file + \".pdf\")\n",
    "\n",
    "fig = plt.figure()\n",
    "plt.rc('grid', linestyle='-', color='black')\n",
    "plt.title('Number of Components Retained vs Performance')\n",
    "plt.xlabel('Number of Components')\n",
    "plt.ylabel('Accuracy (%)')\n",
    "plt.ylim(0, 100)\n",
    "plt.grid(True)\n",
    "plt.plot(np.fromiter(rbf_results.keys(),dtype=float), np.fromiter(rbf_results.values(),dtype=float))\n",
    "plt.show()\n",
    "\n",
    "pp.savefig(fig)\n",
    "pp.close()"
   ]
  },
  {
   "cell_type": "code",
   "execution_count": null,
   "metadata": {},
   "outputs": [],
   "source": [
    "print(max(rbf_results.values()))"
   ]
  },
  {
   "cell_type": "code",
   "execution_count": null,
   "metadata": {
    "collapsed": true
   },
   "outputs": [],
   "source": [
    "# Results\n",
    "# raw pixels: ball tree 96.0%, kd tree 96.0%, brute 96.05%\n",
    "# feature selection: ball tree 96.05%, kd tree 96.0%, brute 96.1%"
   ]
  },
  {
   "cell_type": "code",
   "execution_count": null,
   "metadata": {
    "collapsed": true
   },
   "outputs": [],
   "source": []
  }
 ],
 "metadata": {
  "kernelspec": {
   "display_name": "Python 3",
   "language": "python",
   "name": "python3"
  },
  "language_info": {
   "codemirror_mode": {
    "name": "ipython",
    "version": 3
   },
   "file_extension": ".py",
   "mimetype": "text/x-python",
   "name": "python",
   "nbconvert_exporter": "python",
   "pygments_lexer": "ipython3",
   "version": "3.6.1"
  }
 },
 "nbformat": 4,
 "nbformat_minor": 2
}
