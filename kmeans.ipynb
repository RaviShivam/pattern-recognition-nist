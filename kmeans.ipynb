{
 "cells": [
  {
   "cell_type": "markdown",
   "metadata": {},
   "source": [
    "# Read data and split to train and test set"
   ]
  },
  {
   "cell_type": "code",
   "execution_count": 2,
   "metadata": {},
   "outputs": [
    {
     "name": "stderr",
     "output_type": "stream",
     "text": [
      "/home/shivam/prenv/local/lib/python2.7/site-packages/sklearn/model_selection/_split.py:2026: FutureWarning: From version 0.21, test_size will always complement train_size unless both are specified.\n",
      "  FutureWarning)\n"
     ]
    }
   ],
   "source": [
    "import pandas as pd\n",
    "import numpy as np\n",
    "from sklearn.model_selection import train_test_split\n",
    "from sklearn.metrics import accuracy_score\n",
    "from sklearn.cluster import KMeans\n",
    "\n",
    "data = pd.read_csv(\"data/processed_nist_data.csv\", header=None).as_matrix()\n",
    "X, y = data[:, 1:], data[:, 0]\n",
    "X_train, X_test, y_train, y_test = train_test_split(X, y, train_size=0.8, shuffle=False)"
   ]
  },
  {
   "cell_type": "markdown",
   "metadata": {},
   "source": [
    "# K-Means clustering with raw images"
   ]
  },
  {
   "cell_type": "code",
   "execution_count": 4,
   "metadata": {},
   "outputs": [
    {
     "name": "stdout",
     "output_type": "stream",
     "text": [
      "Prediction accuracy of K-Means: 3.65%\n"
     ]
    }
   ],
   "source": [
    "predictor= KMeans(n_clusters=10, n_init=100, n_jobs=8)\n",
    "predictor.fit(X_train, y_train)\n",
    "y_predicted = predictor.predict(X_test)\n",
    "print \"Prediction accuracy of K-Means: {}%\".format(accuracy_score(y_test, y_predicted)*100)"
   ]
  },
  {
   "cell_type": "markdown",
   "metadata": {},
   "source": [
    "# K-Means clustering with PCA transform"
   ]
  },
  {
   "cell_type": "code",
   "execution_count": 5,
   "metadata": {},
   "outputs": [
    {
     "name": "stdout",
     "output_type": "stream",
     "text": [
      "Prediction accuracy of K-Means with PCA: 8.45%\n"
     ]
    }
   ],
   "source": [
    "from sklearn.decomposition import PCA\n",
    "\n",
    "pca = PCA(n_components=100)\n",
    "predictor = KMeans(n_clusters=10, n_init=1000, n_jobs=8)\n",
    "predictor.fit(pca.fit_transform(X_train), y_train)\n",
    "\n",
    "x_test_pca = pca.transform(X_test)\n",
    "y_predicted = predictor.predict(x_test_pca)\n",
    "\n",
    "print \"Prediction accuracy of K-Means with PCA: {}%\".format(accuracy_score(y_test, y_predicted)*100)"
   ]
  },
  {
   "cell_type": "code",
   "execution_count": 3,
   "metadata": {},
   "outputs": [
    {
     "data": {
      "image/png": "[encoded data removed]",
      "text/plain": [
       "<matplotlib.figure.Figure at 0x7fe55d226290>"
      ]
     },
     "metadata": {},
     "output_type": "display_data"
    },
    {
     "data": {
      "text/plain": [
       "{1: 33.300000000000004,\n",
       " 2: 48.75,\n",
       " 3: 65.299999999999997,\n",
       " 4: 71.399999999999991,\n",
       " 5: 79.400000000000006,\n",
       " 6: 87.649999999999991,\n",
       " 7: 91.049999999999997,\n",
       " 8: 93.25,\n",
       " 9: 94.0,\n",
       " 10: 94.650000000000006,\n",
       " 11: 95.650000000000006,\n",
       " 12: 95.850000000000009,\n",
       " 13: 96.299999999999997,\n",
       " 14: 96.599999999999994,\n",
       " 15: 97.549999999999997,\n",
       " 16: 96.75,\n",
       " 17: 97.150000000000006,\n",
       " 18: 97.5,\n",
       " 19: 97.350000000000009,\n",
       " 20: 97.599999999999994,\n",
       " 21: 98.299999999999997,\n",
       " 22: 97.850000000000009,\n",
       " 23: 97.650000000000006,\n",
       " 24: 98.049999999999997,\n",
       " 25: 98.75,\n",
       " 26: 98.0,\n",
       " 27: 97.899999999999991,\n",
       " 28: 98.450000000000003,\n",
       " 29: 98.200000000000003,\n",
       " 30: 98.0,\n",
       " 31: 98.150000000000006,\n",
       " 32: 98.5,\n",
       " 33: 97.799999999999997,\n",
       " 34: 97.75,\n",
       " 35: 98.099999999999994,\n",
       " 36: 98.299999999999997,\n",
       " 37: 98.099999999999994,\n",
       " 38: 98.25,\n",
       " 39: 98.350000000000009,\n",
       " 40: 98.5,\n",
       " 41: 98.799999999999997,\n",
       " 42: 98.0,\n",
       " 43: 98.850000000000009,\n",
       " 44: 97.950000000000003,\n",
       " 45: 98.350000000000009,\n",
       " 46: 98.400000000000006,\n",
       " 47: 98.200000000000003,\n",
       " 48: 98.25,\n",
       " 49: 98.350000000000009,\n",
       " 50: 98.75,\n",
       " 51: 98.099999999999994,\n",
       " 52: 98.350000000000009,\n",
       " 53: 98.25,\n",
       " 54: 98.400000000000006,\n",
       " 55: 97.650000000000006,\n",
       " 56: 97.850000000000009,\n",
       " 57: 98.299999999999997,\n",
       " 58: 98.25,\n",
       " 59: 98.0,\n",
       " 60: 98.150000000000006,\n",
       " 61: 97.899999999999991,\n",
       " 62: 98.799999999999997,\n",
       " 63: 98.550000000000011,\n",
       " 64: 98.400000000000006,\n",
       " 65: 98.450000000000003,\n",
       " 66: 98.450000000000003,\n",
       " 67: 98.0,\n",
       " 68: 98.5,\n",
       " 69: 98.25,\n",
       " 70: 98.200000000000003,\n",
       " 71: 98.299999999999997,\n",
       " 72: 97.75,\n",
       " 73: 98.099999999999994,\n",
       " 74: 98.599999999999994,\n",
       " 75: 98.099999999999994,\n",
       " 76: 98.049999999999997,\n",
       " 77: 97.850000000000009,\n",
       " 78: 98.299999999999997,\n",
       " 79: 98.25}"
      ]
     },
     "execution_count": 3,
     "metadata": {},
     "output_type": "execute_result"
    }
   ],
   "source": [
    "import pr_utils as pu\n",
    "from sklearn.svm import SVC\n",
    "\n",
    "predictor = SVC()\n",
    "pu.experimentPCA_fulldata(predictor, data, \"testing-SVM\", show_results=True)"
   ]
  },
  {
   "cell_type": "code",
   "execution_count": null,
   "metadata": {},
   "outputs": [],
   "source": []
  }
 ],
 "metadata": {
  "kernelspec": {
   "display_name": "Python 2",
   "language": "python",
   "name": "python2"
  },
  "language_info": {
   "codemirror_mode": {
    "name": "ipython",
    "version": 2
   },
   "file_extension": ".py",
   "mimetype": "text/x-python",
   "name": "python",
   "nbconvert_exporter": "python",
   "pygments_lexer": "ipython2",
   "version": "2.7.12"
  }
 },
 "nbformat": 4,
 "nbformat_minor": 2
}
